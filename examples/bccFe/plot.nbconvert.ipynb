{
 "cells": [
  {
   "cell_type": "code",
   "execution_count": 1,
   "metadata": {
    "ExecuteTime": {
     "end_time": "2019-09-26T06:39:45.474473Z",
     "start_time": "2019-09-26T06:39:42.982516Z"
    },
    "execution": {
     "iopub.execute_input": "2020-05-05T00:08:26.415911Z",
     "iopub.status.busy": "2020-05-05T00:08:26.414840Z",
     "iopub.status.idle": "2020-05-05T00:08:28.055082Z",
     "shell.execute_reply": "2020-05-05T00:08:28.054470Z"
    },
    "papermill": {
     "duration": 1.652497,
     "end_time": "2020-05-05T00:08:28.055208",
     "exception": false,
     "start_time": "2020-05-05T00:08:26.402711",
     "status": "completed"
    },
    "tags": []
   },
   "outputs": [],
   "source": [
    "%matplotlib inline \n",
    "import json\n",
    "import numpy as np\n",
    "import os\n",
    "import pylab as plt"
   ]
  },
  {
   "cell_type": "code",
   "execution_count": 2,
   "metadata": {
    "execution": {
     "iopub.execute_input": "2020-05-05T00:08:28.073072Z",
     "iopub.status.busy": "2020-05-05T00:08:28.072464Z",
     "iopub.status.idle": "2020-05-05T00:08:28.074915Z",
     "shell.execute_reply": "2020-05-05T00:08:28.074416Z"
    },
    "papermill": {
     "duration": 0.012896,
     "end_time": "2020-05-05T00:08:28.075023",
     "exception": false,
     "start_time": "2020-05-05T00:08:28.062127",
     "status": "completed"
    },
    "tags": []
   },
   "outputs": [],
   "source": [
    "import matplotlib as mpl\n",
    "mpl.rc('font', family='Times New Roman')\n",
    "plt.rcParams[\"mathtext.fontset\"] = \"stix\""
   ]
  },
  {
   "cell_type": "code",
   "execution_count": 3,
   "metadata": {
    "execution": {
     "iopub.execute_input": "2020-05-05T00:08:28.091225Z",
     "iopub.status.busy": "2020-05-05T00:08:28.090627Z",
     "iopub.status.idle": "2020-05-05T00:08:28.093040Z",
     "shell.execute_reply": "2020-05-05T00:08:28.092439Z"
    },
    "papermill": {
     "duration": 0.011658,
     "end_time": "2020-05-05T00:08:28.093145",
     "exception": false,
     "start_time": "2020-05-05T00:08:28.081487",
     "status": "completed"
    },
    "tags": [
     "parameters"
    ]
   },
   "outputs": [],
   "source": [
    "input_file = 'output.json'"
   ]
  },
  {
   "cell_type": "code",
   "execution_count": 4,
   "metadata": {
    "execution": {
     "iopub.execute_input": "2020-05-05T00:08:28.109422Z",
     "iopub.status.busy": "2020-05-05T00:08:28.108823Z",
     "iopub.status.idle": "2020-05-05T00:08:28.111248Z",
     "shell.execute_reply": "2020-05-05T00:08:28.110647Z"
    },
    "papermill": {
     "duration": 0.011719,
     "end_time": "2020-05-05T00:08:28.111352",
     "exception": false,
     "start_time": "2020-05-05T00:08:28.099633",
     "status": "completed"
    },
    "tags": [
     "injected-parameters"
    ]
   },
   "outputs": [],
   "source": [
    "# Parameters\n",
    "input_file = \"output.json\"\n"
   ]
  },
  {
   "cell_type": "code",
   "execution_count": 5,
   "metadata": {
    "execution": {
     "iopub.execute_input": "2020-05-05T00:08:28.129789Z",
     "iopub.status.busy": "2020-05-05T00:08:28.129181Z",
     "iopub.status.idle": "2020-05-05T00:08:28.131633Z",
     "shell.execute_reply": "2020-05-05T00:08:28.131012Z"
    },
    "papermill": {
     "duration": 0.013737,
     "end_time": "2020-05-05T00:08:28.131738",
     "exception": false,
     "start_time": "2020-05-05T00:08:28.118001",
     "status": "completed"
    },
    "tags": []
   },
   "outputs": [],
   "source": [
    "# Values from a previous calculation can be inserted here to reproduce the results \n",
    "step_dict = {}\n",
    "if os.path.exists(input_file):\n",
    "    with open(input_file, 'r') as f:\n",
    "        step_dict_str = json.load(f)\n",
    "    for k,v in step_dict_str.items():\n",
    "        step_dict[int(k)] = v"
   ]
  },
  {
   "cell_type": "code",
   "execution_count": 6,
   "metadata": {
    "execution": {
     "iopub.execute_input": "2020-05-05T00:08:28.149393Z",
     "iopub.status.busy": "2020-05-05T00:08:28.148791Z",
     "iopub.status.idle": "2020-05-05T00:08:28.151239Z",
     "shell.execute_reply": "2020-05-05T00:08:28.150718Z"
    },
    "papermill": {
     "duration": 0.013042,
     "end_time": "2020-05-05T00:08:28.151343",
     "exception": false,
     "start_time": "2020-05-05T00:08:28.138301",
     "status": "completed"
    },
    "tags": []
   },
   "outputs": [],
   "source": [
    "ind, temp_lst = [], []\n",
    "for k,v in step_dict.items():\n",
    "    ind.append(k)\n",
    "    temp_lst.append(v['temperature_next'])"
   ]
  },
  {
   "cell_type": "code",
   "execution_count": 7,
   "metadata": {
    "execution": {
     "iopub.execute_input": "2020-05-05T00:08:28.168483Z",
     "iopub.status.busy": "2020-05-05T00:08:28.167884Z",
     "iopub.status.idle": "2020-05-05T00:08:28.170481Z",
     "shell.execute_reply": "2020-05-05T00:08:28.169985Z"
    },
    "papermill": {
     "duration": 0.012588,
     "end_time": "2020-05-05T00:08:28.170588",
     "exception": false,
     "start_time": "2020-05-05T00:08:28.158000",
     "status": "completed"
    },
    "tags": []
   },
   "outputs": [],
   "source": [
    "temp_array = np.array(temp_lst)[np.array(ind)]"
   ]
  },
  {
   "cell_type": "code",
   "execution_count": 8,
   "metadata": {
    "execution": {
     "iopub.execute_input": "2020-05-05T00:08:28.228686Z",
     "iopub.status.busy": "2020-05-05T00:08:28.189800Z",
     "iopub.status.idle": "2020-05-05T00:08:28.626939Z",
     "shell.execute_reply": "2020-05-05T00:08:28.626318Z"
    },
    "papermill": {
     "duration": 0.449677,
     "end_time": "2020-05-05T00:08:28.627057",
     "exception": false,
     "start_time": "2020-05-05T00:08:28.177380",
     "status": "completed"
    },
    "tags": []
   },
   "outputs": [
    {
     "data": {
      "text/plain": [
       "Text(0, 0.5, 'Temperature (K)')"
      ]
     },
     "execution_count": 8,
     "metadata": {},
     "output_type": "execute_result"
    },
    {
     "name": "stderr",
     "output_type": "stream",
     "text": [
      "findfont: Font family ['Times New Roman'] not found. Falling back to DejaVu Sans.\n"
     ]
    },
    {
     "data": {
      "image/png": "[encoded data removed]",
      "text/plain": [
       "<Figure size 432x288 with 1 Axes>"
      ]
     },
     "metadata": {
      "needs_background": "light"
     },
     "output_type": "display_data"
    }
   ],
   "source": [
    "# plot the convergence of loop calculations\n",
    "plt.plot(np.arange(1, len(temp_array)), temp_array[0:-1], 'ro-', label=r\"$T^e$\")\n",
    "plt.plot(np.arange(1, len(temp_array)), temp_array[1:], 'bo-', label=r\"$T^p$\")\n",
    "plt.legend(fontsize=14)\n",
    "plt.tick_params(axis='both', labelsize=14)\n",
    "plt.xlabel('Number of loops', fontsize=14)\n",
    "plt.ylabel('Temperature (K)', fontsize=14)\n"
   ]
  }
 ],
 "metadata": {
  "celltoolbar": "Tags",
  "kernelspec": {
   "display_name": "Python 3",
   "language": "python",
   "name": "python3"
  },
  "language_info": {
   "codemirror_mode": {
    "name": "ipython",
    "version": 3
   },
   "file_extension": ".py",
   "mimetype": "text/x-python",
   "name": "python",
   "nbconvert_exporter": "python",
   "pygments_lexer": "ipython3",
   "version": "3.7.6"
  },
  "papermill": {
   "duration": 3.024848,
   "end_time": "2020-05-05T00:08:28.741569",
   "environment_variables": {},
   "exception": null,
   "input_path": "./scripts/plot.ipynb",
   "output_path": "plot.nbconvert.ipynb",
   "parameters": {
    "input_file": "output.json"
   },
   "start_time": "2020-05-05T00:08:25.716721",
   "version": "2.1.0"
  },
  "toc": {
   "base_numbering": 1,
   "nav_menu": {
    "height": "120px",
    "width": "252px"
   },
   "number_sections": true,
   "sideBar": true,
   "skip_h1_title": false,
   "title_cell": "Table of Contents",
   "title_sidebar": "Contents",
   "toc_cell": false,
   "toc_position": {
    "height": "calc(100% - 180px)",
    "left": "10px",
    "top": "150px",
    "width": "166.796875px"
   },
   "toc_section_display": "block",
   "toc_window_display": false
  }
 },
 "nbformat": 4,
 "nbformat_minor": 2
}