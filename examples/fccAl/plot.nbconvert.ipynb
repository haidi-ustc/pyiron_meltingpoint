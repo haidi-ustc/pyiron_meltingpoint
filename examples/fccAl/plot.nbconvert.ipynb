{
 "cells": [
  {
   "cell_type": "code",
   "execution_count": 1,
   "metadata": {
    "ExecuteTime": {
     "end_time": "2019-09-26T06:39:45.474473Z",
     "start_time": "2019-09-26T06:39:42.982516Z"
    },
    "execution": {
     "iopub.execute_input": "2020-05-04T22:10:32.363134Z",
     "iopub.status.busy": "2020-05-04T22:10:32.362413Z",
     "iopub.status.idle": "2020-05-04T22:10:33.099026Z",
     "shell.execute_reply": "2020-05-04T22:10:33.099655Z"
    },
    "papermill": {
     "duration": 0.7511,
     "end_time": "2020-05-04T22:10:33.099874",
     "exception": false,
     "start_time": "2020-05-04T22:10:32.348774",
     "status": "completed"
    },
    "tags": []
   },
   "outputs": [],
   "source": [
    "%matplotlib inline \n",
    "import json\n",
    "import numpy as np\n",
    "import os\n",
    "import pylab as plt"
   ]
  },
  {
   "cell_type": "code",
   "execution_count": 2,
   "metadata": {
    "execution": {
     "iopub.execute_input": "2020-05-04T22:10:33.120178Z",
     "iopub.status.busy": "2020-05-04T22:10:33.119477Z",
     "iopub.status.idle": "2020-05-04T22:10:33.121481Z",
     "shell.execute_reply": "2020-05-04T22:10:33.122072Z"
    },
    "papermill": {
     "duration": 0.014155,
     "end_time": "2020-05-04T22:10:33.122211",
     "exception": false,
     "start_time": "2020-05-04T22:10:33.108056",
     "status": "completed"
    },
    "tags": []
   },
   "outputs": [],
   "source": [
    "import matplotlib as mpl\n",
    "mpl.rc('font', family='Times New Roman')\n",
    "plt.rcParams[\"mathtext.fontset\"] = \"stix\""
   ]
  },
  {
   "cell_type": "code",
   "execution_count": 3,
   "metadata": {
    "execution": {
     "iopub.execute_input": "2020-05-04T22:10:33.140807Z",
     "iopub.status.busy": "2020-05-04T22:10:33.140090Z",
     "iopub.status.idle": "2020-05-04T22:10:33.142678Z",
     "shell.execute_reply": "2020-05-04T22:10:33.142050Z"
    },
    "papermill": {
     "duration": 0.013128,
     "end_time": "2020-05-04T22:10:33.142792",
     "exception": false,
     "start_time": "2020-05-04T22:10:33.129664",
     "status": "completed"
    },
    "tags": [
     "parameters"
    ]
   },
   "outputs": [],
   "source": [
    "input_file = 'output.json'"
   ]
  },
  {
   "cell_type": "code",
   "execution_count": 4,
   "metadata": {
    "execution": {
     "iopub.execute_input": "2020-05-04T22:10:33.161165Z",
     "iopub.status.busy": "2020-05-04T22:10:33.160439Z",
     "iopub.status.idle": "2020-05-04T22:10:33.162981Z",
     "shell.execute_reply": "2020-05-04T22:10:33.162377Z"
    },
    "papermill": {
     "duration": 0.012883,
     "end_time": "2020-05-04T22:10:33.163092",
     "exception": false,
     "start_time": "2020-05-04T22:10:33.150209",
     "status": "completed"
    },
    "tags": [
     "injected-parameters"
    ]
   },
   "outputs": [],
   "source": [
    "# Parameters\n",
    "input_file = \"output.json\"\n"
   ]
  },
  {
   "cell_type": "code",
   "execution_count": 5,
   "metadata": {
    "execution": {
     "iopub.execute_input": "2020-05-04T22:10:33.183495Z",
     "iopub.status.busy": "2020-05-04T22:10:33.182797Z",
     "iopub.status.idle": "2020-05-04T22:10:33.185127Z",
     "shell.execute_reply": "2020-05-04T22:10:33.185702Z"
    },
    "papermill": {
     "duration": 0.015195,
     "end_time": "2020-05-04T22:10:33.185834",
     "exception": false,
     "start_time": "2020-05-04T22:10:33.170639",
     "status": "completed"
    },
    "tags": []
   },
   "outputs": [],
   "source": [
    "# Values from a previous calculation can be inserted here to reproduce the results \n",
    "step_dict = {}\n",
    "if os.path.exists(input_file):\n",
    "    with open(input_file, 'r') as f:\n",
    "        step_dict_str = json.load(f)\n",
    "    for k,v in step_dict_str.items():\n",
    "        step_dict[int(k)] = v"
   ]
  },
  {
   "cell_type": "code",
   "execution_count": 6,
   "metadata": {
    "execution": {
     "iopub.execute_input": "2020-05-04T22:10:33.205568Z",
     "iopub.status.busy": "2020-05-04T22:10:33.204884Z",
     "iopub.status.idle": "2020-05-04T22:10:33.207623Z",
     "shell.execute_reply": "2020-05-04T22:10:33.207054Z"
    },
    "papermill": {
     "duration": 0.014411,
     "end_time": "2020-05-04T22:10:33.207738",
     "exception": false,
     "start_time": "2020-05-04T22:10:33.193327",
     "status": "completed"
    },
    "tags": []
   },
   "outputs": [],
   "source": [
    "ind, temp_lst = [], []\n",
    "for k,v in step_dict.items():\n",
    "    ind.append(k)\n",
    "    temp_lst.append(v['temperature_next'])"
   ]
  },
  {
   "cell_type": "code",
   "execution_count": 7,
   "metadata": {
    "execution": {
     "iopub.execute_input": "2020-05-04T22:10:33.227042Z",
     "iopub.status.busy": "2020-05-04T22:10:33.226342Z",
     "iopub.status.idle": "2020-05-04T22:10:33.228280Z",
     "shell.execute_reply": "2020-05-04T22:10:33.228876Z"
    },
    "papermill": {
     "duration": 0.013625,
     "end_time": "2020-05-04T22:10:33.229010",
     "exception": false,
     "start_time": "2020-05-04T22:10:33.215385",
     "status": "completed"
    },
    "tags": []
   },
   "outputs": [],
   "source": [
    "temp_array = np.array(temp_lst)[np.array(ind)]"
   ]
  },
  {
   "cell_type": "code",
   "execution_count": 8,
   "metadata": {
    "execution": {
     "iopub.execute_input": "2020-05-04T22:10:33.317023Z",
     "iopub.status.busy": "2020-05-04T22:10:33.294875Z",
     "iopub.status.idle": "2020-05-04T22:10:33.697770Z",
     "shell.execute_reply": "2020-05-04T22:10:33.698081Z"
    },
    "papermill": {
     "duration": 0.461618,
     "end_time": "2020-05-04T22:10:33.698183",
     "exception": false,
     "start_time": "2020-05-04T22:10:33.236565",
     "status": "completed"
    },
    "tags": []
   },
   "outputs": [
    {
     "data": {
      "text/plain": [
       "Text(0, 0.5, 'Temperature (K)')"
      ]
     },
     "execution_count": 8,
     "metadata": {},
     "output_type": "execute_result"
    },
    {
     "name": "stderr",
     "output_type": "stream",
     "text": [
      "findfont: Font family ['Times New Roman'] not found. Falling back to DejaVu Sans.\n"
     ]
    },
    {
     "data": {
      "image/png": "[encoded data removed]",
      "text/plain": [
       "<Figure size 432x288 with 1 Axes>"
      ]
     },
     "metadata": {
      "needs_background": "light"
     },
     "output_type": "display_data"
    }
   ],
   "source": [
    "# plot the convergence of loop calculations\n",
    "plt.plot(np.arange(1, len(temp_array)), temp_array[0:-1], 'ro-', label=r\"$T^e$\")\n",
    "plt.plot(np.arange(1, len(temp_array)), temp_array[1:], 'bo-', label=r\"$T^p$\")\n",
    "plt.legend(fontsize=14)\n",
    "plt.tick_params(axis='both', labelsize=14)\n",
    "plt.xlabel('Number of loops', fontsize=14)\n",
    "plt.ylabel('Temperature (K)', fontsize=14)\n"
   ]
  }
 ],
 "metadata": {
  "celltoolbar": "Tags",
  "kernelspec": {
   "display_name": "Python 3",
   "language": "python",
   "name": "python3"
  },
  "language_info": {
   "codemirror_mode": {
    "name": "ipython",
    "version": 3
   },
   "file_extension": ".py",
   "mimetype": "text/x-python",
   "name": "python",
   "nbconvert_exporter": "python",
   "pygments_lexer": "ipython3",
   "version": "3.7.6"
  },
  "papermill": {
   "duration": 1.996325,
   "end_time": "2020-05-04T22:10:33.807804",
   "environment_variables": {},
   "exception": null,
   "input_path": "./scripts/plot.ipynb",
   "output_path": "plot.nbconvert.ipynb",
   "parameters": {
    "input_file": "output.json"
   },
   "start_time": "2020-05-04T22:10:31.811479",
   "version": "2.1.0"
  },
  "toc": {
   "base_numbering": 1,
   "nav_menu": {
    "height": "120px",
    "width": "252px"
   },
   "number_sections": true,
   "sideBar": true,
   "skip_h1_title": false,
   "title_cell": "Table of Contents",
   "title_sidebar": "Contents",
   "toc_cell": false,
   "toc_position": {
    "height": "calc(100% - 180px)",
    "left": "10px",
    "top": "150px",
    "width": "166.796875px"
   },
   "toc_section_display": "block",
   "toc_window_display": false
  }
 },
 "nbformat": 4,
 "nbformat_minor": 2
}