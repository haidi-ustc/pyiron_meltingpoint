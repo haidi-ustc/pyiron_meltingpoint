{
 "cells": [
  {
   "cell_type": "code",
   "execution_count": 1,
   "metadata": {
    "ExecuteTime": {
     "end_time": "2019-09-26T06:39:45.474473Z",
     "start_time": "2019-09-26T06:39:42.982516Z"
    },
    "execution": {
     "iopub.execute_input": "2020-05-04T17:44:45.878762Z",
     "iopub.status.busy": "2020-05-04T17:44:45.878117Z",
     "iopub.status.idle": "2020-05-04T17:44:47.089465Z",
     "shell.execute_reply": "2020-05-04T17:44:47.090046Z"
    },
    "papermill": {
     "duration": 1.232418,
     "end_time": "2020-05-04T17:44:47.090246",
     "exception": false,
     "start_time": "2020-05-04T17:44:45.857828",
     "status": "completed"
    },
    "tags": []
   },
   "outputs": [],
   "source": [
    "%matplotlib inline \n",
    "import json\n",
    "import numpy as np\n",
    "import os\n",
    "import pylab as plt"
   ]
  },
  {
   "cell_type": "code",
   "execution_count": 2,
   "metadata": {
    "execution": {
     "iopub.execute_input": "2020-05-04T17:44:47.113881Z",
     "iopub.status.busy": "2020-05-04T17:44:47.113162Z",
     "iopub.status.idle": "2020-05-04T17:44:47.116430Z",
     "shell.execute_reply": "2020-05-04T17:44:47.115659Z"
    },
    "papermill": {
     "duration": 0.017633,
     "end_time": "2020-05-04T17:44:47.116558",
     "exception": false,
     "start_time": "2020-05-04T17:44:47.098925",
     "status": "completed"
    },
    "tags": []
   },
   "outputs": [],
   "source": [
    "import matplotlib as mpl\n",
    "mpl.rc('font', family='Times New Roman')\n",
    "plt.rcParams[\"mathtext.fontset\"] = \"stix\""
   ]
  },
  {
   "cell_type": "code",
   "execution_count": 3,
   "metadata": {
    "execution": {
     "iopub.execute_input": "2020-05-04T17:44:47.137386Z",
     "iopub.status.busy": "2020-05-04T17:44:47.136725Z",
     "iopub.status.idle": "2020-05-04T17:44:47.139329Z",
     "shell.execute_reply": "2020-05-04T17:44:47.139879Z"
    },
    "papermill": {
     "duration": 0.014809,
     "end_time": "2020-05-04T17:44:47.140018",
     "exception": false,
     "start_time": "2020-05-04T17:44:47.125209",
     "status": "completed"
    },
    "tags": [
     "parameters"
    ]
   },
   "outputs": [],
   "source": [
    "input_file = 'output.json'"
   ]
  },
  {
   "cell_type": "code",
   "execution_count": 4,
   "metadata": {
    "execution": {
     "iopub.execute_input": "2020-05-04T17:44:47.159733Z",
     "iopub.status.busy": "2020-05-04T17:44:47.159073Z",
     "iopub.status.idle": "2020-05-04T17:44:47.162226Z",
     "shell.execute_reply": "2020-05-04T17:44:47.161637Z"
    },
    "papermill": {
     "duration": 0.014499,
     "end_time": "2020-05-04T17:44:47.162345",
     "exception": false,
     "start_time": "2020-05-04T17:44:47.147846",
     "status": "completed"
    },
    "tags": [
     "injected-parameters"
    ]
   },
   "outputs": [],
   "source": [
    "# Parameters\n",
    "input_file = \"output.json\"\n"
   ]
  },
  {
   "cell_type": "code",
   "execution_count": 5,
   "metadata": {
    "execution": {
     "iopub.execute_input": "2020-05-04T17:44:47.185615Z",
     "iopub.status.busy": "2020-05-04T17:44:47.184946Z",
     "iopub.status.idle": "2020-05-04T17:44:47.187526Z",
     "shell.execute_reply": "2020-05-04T17:44:47.188167Z"
    },
    "papermill": {
     "duration": 0.018033,
     "end_time": "2020-05-04T17:44:47.188326",
     "exception": false,
     "start_time": "2020-05-04T17:44:47.170293",
     "status": "completed"
    },
    "tags": []
   },
   "outputs": [],
   "source": [
    "# Values from a previous calculation can be inserted here to reproduce the results \n",
    "step_dict = {}\n",
    "if os.path.exists(input_file):\n",
    "    with open(input_file, 'r') as f:\n",
    "        step_dict_str = json.load(f)\n",
    "    for k,v in step_dict_str.items():\n",
    "        step_dict[int(k)] = v"
   ]
  },
  {
   "cell_type": "code",
   "execution_count": 6,
   "metadata": {
    "execution": {
     "iopub.execute_input": "2020-05-04T17:44:47.211682Z",
     "iopub.status.busy": "2020-05-04T17:44:47.210953Z",
     "iopub.status.idle": "2020-05-04T17:44:47.214173Z",
     "shell.execute_reply": "2020-05-04T17:44:47.213555Z"
    },
    "papermill": {
     "duration": 0.016589,
     "end_time": "2020-05-04T17:44:47.214298",
     "exception": false,
     "start_time": "2020-05-04T17:44:47.197709",
     "status": "completed"
    },
    "tags": []
   },
   "outputs": [],
   "source": [
    "ind, temp_lst = [], []\n",
    "for k,v in step_dict.items():\n",
    "    ind.append(k)\n",
    "    temp_lst.append(v['temperature_next'])"
   ]
  },
  {
   "cell_type": "code",
   "execution_count": 7,
   "metadata": {
    "execution": {
     "iopub.execute_input": "2020-05-04T17:44:47.235344Z",
     "iopub.status.busy": "2020-05-04T17:44:47.234652Z",
     "iopub.status.idle": "2020-05-04T17:44:47.237596Z",
     "shell.execute_reply": "2020-05-04T17:44:47.236900Z"
    },
    "papermill": {
     "duration": 0.014945,
     "end_time": "2020-05-04T17:44:47.237712",
     "exception": false,
     "start_time": "2020-05-04T17:44:47.222767",
     "status": "completed"
    },
    "tags": []
   },
   "outputs": [],
   "source": [
    "temp_array = np.array(temp_lst)[np.array(ind)]"
   ]
  },
  {
   "cell_type": "code",
   "execution_count": 8,
   "metadata": {
    "execution": {
     "iopub.execute_input": "2020-05-04T17:44:47.314276Z",
     "iopub.status.busy": "2020-05-04T17:44:47.306752Z",
     "iopub.status.idle": "2020-05-04T17:44:47.752049Z",
     "shell.execute_reply": "2020-05-04T17:44:47.751505Z"
    },
    "papermill": {
     "duration": 0.506367,
     "end_time": "2020-05-04T17:44:47.752171",
     "exception": false,
     "start_time": "2020-05-04T17:44:47.245804",
     "status": "completed"
    },
    "tags": []
   },
   "outputs": [
    {
     "data": {
      "text/plain": [
       "Text(0, 0.5, 'Temperature (K)')"
      ]
     },
     "execution_count": 8,
     "metadata": {},
     "output_type": "execute_result"
    },
    {
     "name": "stderr",
     "output_type": "stream",
     "text": [
      "findfont: Font family ['Times New Roman'] not found. Falling back to DejaVu Sans.\n"
     ]
    },
    {
     "data": {
      "image/png": "[encoded data removed]",
      "text/plain": [
       "<Figure size 432x288 with 1 Axes>"
      ]
     },
     "metadata": {
      "needs_background": "light"
     },
     "output_type": "display_data"
    }
   ],
   "source": [
    "# plot the convergence of loop calculations\n",
    "plt.plot(np.arange(1, len(temp_array)), temp_array[0:-1], 'ro-', label=r\"$T^e$\")\n",
    "plt.plot(np.arange(1, len(temp_array)), temp_array[1:], 'bo-', label=r\"$T^p$\")\n",
    "plt.legend(fontsize=14)\n",
    "plt.tick_params(axis='both', labelsize=14)\n",
    "plt.xlabel('Number of loops', fontsize=14)\n",
    "plt.ylabel('Temperature (K)', fontsize=14)\n"
   ]
  }
 ],
 "metadata": {
  "celltoolbar": "Tags",
  "kernelspec": {
   "display_name": "Python 3",
   "language": "python",
   "name": "python3"
  },
  "language_info": {
   "codemirror_mode": {
    "name": "ipython",
    "version": 3
   },
   "file_extension": ".py",
   "mimetype": "text/x-python",
   "name": "python",
   "nbconvert_exporter": "python",
   "pygments_lexer": "ipython3",
   "version": "3.7.6"
  },
  "papermill": {
   "duration": 2.837463,
   "end_time": "2020-05-04T17:44:47.869127",
   "environment_variables": {},
   "exception": null,
   "input_path": "./scripts/plot.ipynb",
   "output_path": "plot.nbconvert.ipynb",
   "parameters": {
    "input_file": "output.json"
   },
   "start_time": "2020-05-04T17:44:45.031664",
   "version": "2.1.0"
  },
  "toc": {
   "base_numbering": 1,
   "nav_menu": {
    "height": "120px",
    "width": "252px"
   },
   "number_sections": true,
   "sideBar": true,
   "skip_h1_title": false,
   "title_cell": "Table of Contents",
   "title_sidebar": "Contents",
   "toc_cell": false,
   "toc_position": {
    "height": "calc(100% - 180px)",
    "left": "10px",
    "top": "150px",
    "width": "166.796875px"
   },
   "toc_section_display": "block",
   "toc_window_display": false
  }
 },
 "nbformat": 4,
 "nbformat_minor": 2
}