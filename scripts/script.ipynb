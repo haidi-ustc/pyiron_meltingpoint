{
 "cells": [
  {
   "cell_type": "code",
   "execution_count": null,
   "metadata": {
    "ExecuteTime": {
     "end_time": "2019-10-08T13:04:28.675365Z",
     "start_time": "2019-10-08T13:04:24.575595Z"
    }
   },
   "outputs": [],
   "source": [
    "%matplotlib inline \n",
    "import json\n",
    "import numpy as np\n",
    "import operator\n",
    "import os\n",
    "import pandas\n",
    "import pylab as plt\n",
    "import random\n",
    "from ase.data import reference_states, atomic_numbers\n",
    "from sklearn.neighbors.kde import KernelDensity\n",
    "from pyiron.project import Project"
   ]
  },
  {
   "cell_type": "code",
   "execution_count": null,
   "metadata": {
    "tags": [
     "parameters"
    ]
   },
   "outputs": [],
   "source": [
    "input_file = \"input.json\"\n",
    "output_file = 'output.json'"
   ]
  },
  {
   "cell_type": "code",
   "execution_count": null,
   "metadata": {
    "ExecuteTime": {
     "end_time": "2019-10-08T13:04:29.544782Z",
     "start_time": "2019-10-08T13:04:28.677745Z"
    }
   },
   "outputs": [],
   "source": [
    "pr = Project('melting')"
   ]
  },
  {
   "cell_type": "code",
   "execution_count": null,
   "metadata": {
    "ExecuteTime": {
     "end_time": "2019-10-08T13:04:30.547878Z",
     "start_time": "2019-10-08T13:04:30.051880Z"
    }
   },
   "outputs": [],
   "source": [
    "pr.job_table()"
   ]
  },
  {
   "cell_type": "code",
   "execution_count": null,
   "metadata": {},
   "outputs": [],
   "source": [
    "with open(input_file, 'r') as f:\n",
    "    input_dict = json.load(f)"
   ]
  },
  {
   "cell_type": "code",
   "execution_count": null,
   "metadata": {},
   "outputs": [],
   "source": [
    "input_dict"
   ]
  },
  {
   "cell_type": "code",
   "execution_count": null,
   "metadata": {},
   "outputs": [],
   "source": [
    "pot_dict = input_dict.copy()"
   ]
  },
  {
   "cell_type": "code",
   "execution_count": null,
   "metadata": {},
   "outputs": [],
   "source": [
    "if 'model' not in pot_dict.keys():\n",
    "    pot_dict['model'] = 'Lammps'\n",
    "if 'name' not in pot_dict.keys():\n",
    "    pot_dict['name'] = 'CustomPotential'\n",
    "potential = pandas.DataFrame({'Config': [pot_dict['config']],\n",
    "                             'Filename': [[os.path.abspath(pot_dict['filename'])]],\n",
    "                             'Model': [pot_dict['model']],\n",
    "                             'Name': [pot_dict['name']],\n",
    "                             'Species': [pot_dict['species']]\n",
    "                             })"
   ]
  },
  {
   "cell_type": "code",
   "execution_count": null,
   "metadata": {
    "ExecuteTime": {
     "end_time": "2019-10-08T13:04:30.557204Z",
     "start_time": "2019-10-08T13:04:30.549236Z"
    }
   },
   "outputs": [],
   "source": [
    "project_parameter = {\n",
    "    'project': pr,\n",
    "    'run_time_steps': 50000,\n",
    "    'nvt_run_time_steps': 10000,\n",
    "    'nve_run_time_steps': 10000,\n",
    "    'temperature_left': 0,\n",
    "    'temperature_right': 1000,\n",
    "    'strain_run_time_steps': 1000,\n",
    "    'convergence_criterion': 1,\n",
    "    'potential': potential,\n",
    "    'cpu_cores': 1, \n",
    "    'job_type': pr.job_type.Lammps,\n",
    "    'enable_h5md': False,\n",
    "    'points': 21,\n",
    "    'boundary_value': 0.25,\n",
    "    'ratio_boundary': 0.25,\n",
    "    'fit_range_lst': [0.05, 0.04, 0.03, 0.02, 0.01],\n",
    "    'nve_run_time_steps_lst': [10000, 20000, 30000, 40000, 50000],\n",
    "    'number_of_atoms': 8000, \n",
    "}"
   ]
  },
  {
   "cell_type": "code",
   "execution_count": null,
   "metadata": {},
   "outputs": [],
   "source": [
    "for k in input_dict.keys():\n",
    "    project_parameter[k] = input_dict[k]"
   ]
  },
  {
   "cell_type": "code",
   "execution_count": null,
   "metadata": {},
   "outputs": [],
   "source": [
    "if 'crystalstructure' not in project_parameter.keys():\n",
    "    project_parameter['crystalstructure'] = reference_states[atomic_numbers[project_parameter['element']]]['symmetry']"
   ]
  },
  {
   "cell_type": "code",
   "execution_count": null,
   "metadata": {},
   "outputs": [],
   "source": [
    "if 'seed' not in project_parameter.keys():\n",
    "    project_parameter['seed'] = random.randint(0,99999)\n",
    "project_parameter['seed']"
   ]
  },
  {
   "cell_type": "code",
   "execution_count": null,
   "metadata": {
    "ExecuteTime": {
     "end_time": "2019-10-08T13:04:30.569711Z",
     "start_time": "2019-10-08T13:04:30.558644Z"
    }
   },
   "outputs": [],
   "source": [
    "if 'seed' not in project_parameter.keys():\n",
    "    project_parameter['seed'] = random.randint(0,99999)\n",
    "project_parameter['seed']"
   ]
  },
  {
   "cell_type": "code",
   "execution_count": null,
   "metadata": {
    "ExecuteTime": {
     "end_time": "2019-10-08T13:04:30.580662Z",
     "start_time": "2019-10-08T13:04:30.571110Z"
    }
   },
   "outputs": [],
   "source": [
    "# Values from a previous calculation can be inserted here to reproduce the results \n",
    "step_dict = {}\n",
    "if len([f for f in os.listdir(pr.path) if '.json' in f]) != 0:\n",
    "    with open(os.path.join(pr.path, 'melting.json'), 'r') as f:\n",
    "        step_dict_str = json.load(f)\n",
    "    for k,v in step_dict_str.items():\n",
    "        step_dict[int(k)] = v\n",
    "step_dict"
   ]
  },
  {
   "cell_type": "markdown",
   "metadata": {},
   "source": [
    "# From here on the notebook is automated - no change required !"
   ]
  },
  {
   "cell_type": "markdown",
   "metadata": {},
   "source": [
    "Loading functions from https://gitlab.mpcdf.mpg.de/pyiron/pyiron_mpie_thermodynamics/blob/master/pyiron_mpie_thermodynamics/interface.py"
   ]
  },
  {
   "cell_type": "code",
   "execution_count": null,
   "metadata": {
    "ExecuteTime": {
     "end_time": "2019-10-08T13:04:30.590135Z",
     "start_time": "2019-10-08T13:04:30.582981Z"
    }
   },
   "outputs": [],
   "source": [
    "def freeze_one_half(basis):\n",
    "    basis.add_tag(selective_dynamics=None)\n",
    "    x, y, z = basis.scaled_pos_xyz()\n",
    "    for selector, ind in zip(z < 0.5, range(len(basis))):\n",
    "        if selector:\n",
    "            basis.selective_dynamics[ind] = [True, True, True]\n",
    "        else:\n",
    "            basis.selective_dynamics[ind] = [False, False, False]\n",
    "    return basis"
   ]
  },
  {
   "cell_type": "code",
   "execution_count": null,
   "metadata": {
    "ExecuteTime": {
     "end_time": "2019-10-08T13:04:30.600140Z",
     "start_time": "2019-10-08T13:04:30.591858Z"
    }
   },
   "outputs": [],
   "source": [
    "def remove_selective_dynamics(basis):\n",
    "    if 'selective_dynamics' in basis._tag_list.keys():\n",
    "        for ind in range(len(basis)):\n",
    "            basis.selective_dynamics[ind] = [True, True, True]\n",
    "    return basis"
   ]
  },
  {
   "cell_type": "code",
   "execution_count": null,
   "metadata": {
    "ExecuteTime": {
     "end_time": "2019-10-08T13:04:30.609954Z",
     "start_time": "2019-10-08T13:04:30.601395Z"
    }
   },
   "outputs": [],
   "source": [
    "def set_server(job, project_parameter):\n",
    "    job.potential = project_parameter['potential']\n",
    "    if project_parameter['enable_h5md']:\n",
    "        job.executable.version = \"2017.03.31\"  # on cmmc only this version supports H5MD\n",
    "        #job.executable.version = \"2016.11.17\"  # old version\n",
    "        job.enable_h5md()\n",
    "    if 'queue' in project_parameter.keys():\n",
    "        job.server.queue = project_parameter['queue']\n",
    "    job.server.cores = project_parameter['cpu_cores']\n",
    "    return job"
   ]
  },
  {
   "cell_type": "code",
   "execution_count": null,
   "metadata": {
    "ExecuteTime": {
     "end_time": "2019-10-08T13:04:30.619650Z",
     "start_time": "2019-10-08T13:04:30.611271Z"
    }
   },
   "outputs": [],
   "source": [
    "def create_job_template(job_name, structure, project_parameter):\n",
    "    pr = project_parameter['project']\n",
    "    job = pr.create_job(project_parameter['job_type'], job_name)\n",
    "    job.structure = structure\n",
    "    return set_server(job=job, project_parameter=project_parameter)"
   ]
  },
  {
   "cell_type": "code",
   "execution_count": null,
   "metadata": {
    "ExecuteTime": {
     "end_time": "2019-10-08T13:04:30.629914Z",
     "start_time": "2019-10-08T13:04:30.620956Z"
    }
   },
   "outputs": [],
   "source": [
    "def fix_iso(job):\n",
    "    job.input.control['fix___ensemble'] = job.input.control['fix___ensemble'] + ' couple xyz'\n",
    "    return job"
   ]
  },
  {
   "cell_type": "code",
   "execution_count": null,
   "metadata": {
    "ExecuteTime": {
     "end_time": "2019-10-08T13:04:30.640139Z",
     "start_time": "2019-10-08T13:04:30.631250Z"
    }
   },
   "outputs": [],
   "source": [
    "def fix_z_dir(job):\n",
    "    job.input.control['fix___ensemble'] = job.input.control['fix___ensemble'].replace('x 0.0 0.0 1.0 y 0.0 0.0 1.0 z 0.0 0.0 1.0', 'z 0.0 0.0 1.0')\n",
    "    return job"
   ]
  },
  {
   "cell_type": "code",
   "execution_count": null,
   "metadata": {
    "ExecuteTime": {
     "end_time": "2019-10-08T13:04:30.693954Z",
     "start_time": "2019-10-08T13:04:30.641492Z"
    }
   },
   "outputs": [],
   "source": [
    "def half_velocity(job, temperature):\n",
    "    job.input.control['velocity'] = job.input.control['velocity'].replace(str(temperature * 2), str(temperature))\n",
    "    return job"
   ]
  },
  {
   "cell_type": "code",
   "execution_count": null,
   "metadata": {
    "ExecuteTime": {
     "end_time": "2019-10-08T13:04:30.706075Z",
     "start_time": "2019-10-08T13:04:30.695310Z"
    }
   },
   "outputs": [],
   "source": [
    "def minimize_pos(structure, project_parameter, max_iter=1000):\n",
    "    ham_minimize_pos = create_job_template(\n",
    "        job_name='minimize_pos',\n",
    "        structure=structure,\n",
    "        project_parameter=project_parameter\n",
    "    )\n",
    "    ham_minimize_pos.calc_minimize(\n",
    "        max_iter=max_iter,\n",
    "        e_tol=1.0e-9,\n",
    "        f_tol=1.0e-8,\n",
    "        n_print=max_iter\n",
    "    )\n",
    "    ham_minimize_pos.run()\n",
    "    ham_minimize_pos.project.wait_for_job(\n",
    "        ham_minimize_pos,\n",
    "        interval_in_s=100,\n",
    "        max_iterations=100000\n",
    "    )\n",
    "    return ham_minimize_pos"
   ]
  },
  {
   "cell_type": "code",
   "execution_count": null,
   "metadata": {
    "ExecuteTime": {
     "end_time": "2019-10-08T13:04:30.716395Z",
     "start_time": "2019-10-08T13:04:30.707294Z"
    }
   },
   "outputs": [],
   "source": [
    "def minimize_vol(structure, project_parameter, max_iter=1000):\n",
    "    ham_minimize_vol = create_job_template(\n",
    "        job_name='minimize_vol',\n",
    "        structure=structure,\n",
    "        project_parameter=project_parameter\n",
    "    )\n",
    "    ham_minimize_vol.calc_minimize(\n",
    "        max_iter=max_iter,\n",
    "        e_tol=1.0e-9,\n",
    "        f_tol=1.0e-8,\n",
    "        pressure=0.0,\n",
    "        n_print=max_iter\n",
    "    )\n",
    "    ham_minimize_vol.input.control['fix___ensemble'] += ' vmax 0.001'\n",
    "    # ham_minimize_vol = fix_aniso(job=ham_minimize_vol)\n",
    "    ham_minimize_vol.run()\n",
    "    ham_minimize_vol.project.wait_for_job(\n",
    "        ham_minimize_vol,\n",
    "        interval_in_s=100,\n",
    "        max_iterations=100000\n",
    "    )\n",
    "    return ham_minimize_vol"
   ]
  },
  {
   "cell_type": "code",
   "execution_count": null,
   "metadata": {
    "ExecuteTime": {
     "end_time": "2019-10-08T13:04:30.727778Z",
     "start_time": "2019-10-08T13:04:30.717692Z"
    }
   },
   "outputs": [],
   "source": [
    "def next_calc(structure, temperature, project_parameter, run_time_steps=10000):\n",
    "    ham_temp = create_job_template(\n",
    "        job_name='temp_heating_' + str(temperature).replace('.', '_'),\n",
    "        structure=structure,\n",
    "        project_parameter=project_parameter\n",
    "    )\n",
    "    ham_temp.calc_md(\n",
    "        temperature=temperature,\n",
    "        temperature_damping_timescale=100.0,\n",
    "        pressure=0.0,\n",
    "        pressure_damping_timescale=1000.0,\n",
    "        n_print=run_time_steps,\n",
    "        n_ionic_steps=run_time_steps,\n",
    "        seed=project_parameter['seed'],\n",
    "    )\n",
    "    ham_temp = fix_iso(job=ham_temp)\n",
    "    ham_temp = half_velocity(\n",
    "        job=ham_temp,\n",
    "        temperature=temperature\n",
    "    )\n",
    "    ham_temp.run()\n",
    "    ham_temp.project.wait_for_job(\n",
    "        ham_temp,\n",
    "        interval_in_s=100,\n",
    "        max_iterations=100000\n",
    "    )\n",
    "    return ham_temp.get_structure()"
   ]
  },
  {
   "cell_type": "code",
   "execution_count": null,
   "metadata": {
    "ExecuteTime": {
     "end_time": "2019-10-08T13:04:30.740315Z",
     "start_time": "2019-10-08T13:04:30.729142Z"
    }
   },
   "outputs": [],
   "source": [
    "def npt_solid(temperature, basis, project_parameter):\n",
    "    ham_npt_solid = create_job_template(\n",
    "        job_name='ham_npt_solid_' + str(temperature).replace('.', '_'),\n",
    "        structure=basis,\n",
    "        project_parameter=project_parameter\n",
    "    )\n",
    "    ham_npt_solid.calc_md(\n",
    "        temperature=temperature,\n",
    "        temperature_damping_timescale=100.0,\n",
    "        pressure=0.0,\n",
    "        pressure_damping_timescale=1000.0,\n",
    "        n_print=project_parameter['run_time_steps'],\n",
    "        n_ionic_steps=project_parameter['run_time_steps'],\n",
    "        seed=project_parameter['seed'],\n",
    "    )\n",
    "    ham_npt_solid = half_velocity(\n",
    "        job=ham_npt_solid,\n",
    "        temperature=temperature\n",
    "    )\n",
    "    ham_npt_solid = fix_iso(job=ham_npt_solid)\n",
    "    ham_npt_solid.run()\n",
    "    ham_npt_solid.project.wait_for_job(\n",
    "        ham_npt_solid,\n",
    "        interval_in_s=100,\n",
    "        max_iterations=100000\n",
    "    )\n",
    "    return ham_npt_solid"
   ]
  },
  {
   "cell_type": "code",
   "execution_count": null,
   "metadata": {
    "ExecuteTime": {
     "end_time": "2019-10-08T13:04:30.770496Z",
     "start_time": "2019-10-08T13:04:30.741744Z"
    }
   },
   "outputs": [],
   "source": [
    "def npt_liquid(temperature_solid, temperature_liquid, basis, project_parameter):\n",
    "    ham_npt_liquid_high = create_job_template(\n",
    "        job_name='ham_npt_liquid_high_' + str(temperature_liquid).replace('.', '_'),\n",
    "        structure=freeze_one_half(basis),\n",
    "        project_parameter=project_parameter\n",
    "    )\n",
    "    ham_npt_liquid_high.calc_md(\n",
    "        temperature=temperature_liquid,\n",
    "        temperature_damping_timescale=100.0,\n",
    "        pressure=0.0,\n",
    "        pressure_damping_timescale=1000.0,\n",
    "        n_print=project_parameter['run_time_steps'],\n",
    "        n_ionic_steps=project_parameter['run_time_steps'],\n",
    "        seed=project_parameter['seed'],\n",
    "    )\n",
    "    ham_npt_liquid_high = half_velocity(\n",
    "        job=ham_npt_liquid_high,\n",
    "        temperature=temperature_liquid\n",
    "    )\n",
    "    ham_npt_liquid_high = fix_z_dir(\n",
    "        job=ham_npt_liquid_high\n",
    "    )\n",
    "    ham_npt_liquid_high.run()\n",
    "    ham_npt_liquid_high.project.wait_for_job(\n",
    "        ham_npt_liquid_high,\n",
    "        interval_in_s=100,\n",
    "        max_iterations=100000\n",
    "    )\n",
    "\n",
    "    ham_npt_liquid_low = create_job_template(\n",
    "        job_name='ham_npt_liquid_low_' + str(temperature_solid).replace('.', '_'),\n",
    "        structure=freeze_one_half(ham_npt_liquid_high.get_structure(iteration_step=-1)),\n",
    "        project_parameter=project_parameter\n",
    "    )\n",
    "    ham_npt_liquid_low.calc_md(\n",
    "        temperature=temperature_solid,\n",
    "        temperature_damping_timescale=100.0,\n",
    "        pressure=0.0,\n",
    "        pressure_damping_timescale=1000.0,\n",
    "        n_print=project_parameter['run_time_steps'],\n",
    "        n_ionic_steps=project_parameter['run_time_steps'],\n",
    "        seed=project_parameter['seed'],\n",
    "    )\n",
    "    ham_npt_liquid_low = half_velocity(\n",
    "        job=ham_npt_liquid_low,\n",
    "        temperature=temperature_solid\n",
    "    )\n",
    "    ham_npt_liquid_low = fix_z_dir(\n",
    "        job=ham_npt_liquid_low\n",
    "    )\n",
    "    ham_npt_liquid_low.run()\n",
    "    ham_npt_liquid_low.project.wait_for_job(\n",
    "        ham_npt_liquid_low,\n",
    "        interval_in_s=100,\n",
    "        max_iterations=100000\n",
    "    )\n",
    "    return ham_npt_liquid_low"
   ]
  },
  {
   "cell_type": "code",
   "execution_count": null,
   "metadata": {
    "ExecuteTime": {
     "end_time": "2019-10-08T13:04:30.782764Z",
     "start_time": "2019-10-08T13:04:30.771866Z"
    }
   },
   "outputs": [],
   "source": [
    "def next_step_funct(number_of_atoms,\n",
    "                    key_max,\n",
    "                    structure_left,\n",
    "                    structure_right,\n",
    "                    temperature_left,\n",
    "                    temperature_right,\n",
    "                    distribution_initial_half,\n",
    "                    structure_after_minimization,\n",
    "                    run_time_steps,\n",
    "                    project_parameter):\n",
    "    structure_left_dict = structure_left.analyse_ovito_cna_adaptive()\n",
    "    structure_right_dict = structure_right.analyse_ovito_cna_adaptive()\n",
    "    temperature_diff = temperature_right - temperature_left\n",
    "    if structure_left_dict[key_max] / number_of_atoms > distribution_initial_half and \\\n",
    "            structure_right_dict[key_max] / number_of_atoms > distribution_initial_half:\n",
    "        structure_left = structure_right.copy()\n",
    "        temperature_left = temperature_right\n",
    "        temperature_right += temperature_diff\n",
    "        structure_right = next_calc(\n",
    "            structure=structure_after_minimization,\n",
    "            temperature=temperature_right,\n",
    "            project_parameter=project_parameter,\n",
    "            run_time_steps=run_time_steps\n",
    "        )\n",
    "    elif structure_left_dict[key_max] / number_of_atoms > distribution_initial_half > \\\n",
    "            structure_right_dict[key_max] / number_of_atoms:\n",
    "        temperature_diff /= 2\n",
    "        temperature_left += temperature_diff\n",
    "        structure_left = next_calc(\n",
    "            structure=structure_after_minimization,\n",
    "            temperature=temperature_left,\n",
    "            project_parameter=project_parameter,\n",
    "            run_time_steps=run_time_steps\n",
    "        )\n",
    "    elif structure_left_dict[key_max] / number_of_atoms < distribution_initial_half and \\\n",
    "            structure_right_dict[key_max] / number_of_atoms < distribution_initial_half:\n",
    "        temperature_diff /= 2\n",
    "        temperature_right = temperature_left\n",
    "        temperature_left -= temperature_diff\n",
    "        structure_right = structure_left.copy()\n",
    "        structure_left = next_calc(\n",
    "            structure=structure_after_minimization,\n",
    "            temperature=temperature_left,\n",
    "            project_parameter=project_parameter,\n",
    "            run_time_steps=run_time_steps\n",
    "        )\n",
    "    else:\n",
    "        raise ValueError('We should never reach this point!')\n",
    "    return structure_left, structure_right, temperature_left, temperature_right"
   ]
  },
  {
   "cell_type": "code",
   "execution_count": null,
   "metadata": {
    "ExecuteTime": {
     "end_time": "2019-10-08T13:04:30.797566Z",
     "start_time": "2019-10-08T13:04:30.784154Z"
    }
   },
   "outputs": [],
   "source": [
    "def round_temperature_next(temperature_next):\n",
    "    return np.round(temperature_next, 2)"
   ]
  },
  {
   "cell_type": "code",
   "execution_count": null,
   "metadata": {
    "ExecuteTime": {
     "end_time": "2019-10-08T13:04:30.817421Z",
     "start_time": "2019-10-08T13:04:30.798937Z"
    }
   },
   "outputs": [],
   "source": [
    "def strain_circle(basis_relative, temperature_next, nve_run_time_steps, project_parameter,\n",
    "                  strain_result_lst=None, pressure_result_lst=None, center=None, fit_range=0.02):\n",
    "    strain_lst, pressure_lst, temperature_lst, pressure_std_lst, temperature_std_lst = [], [], [], [], []\n",
    "    ovito_dict_lst, ham_nvt_lst, ham_nve_lst = [], [], []\n",
    "    strain_value_lst = get_strain_lst(\n",
    "        fit_range=fit_range,\n",
    "        points=project_parameter['points'],\n",
    "        strain_result_lst=strain_result_lst,\n",
    "        pressure_result_lst=pressure_result_lst,\n",
    "        center=center\n",
    "    )\n",
    "    temperature_next = round_temperature_next(temperature_next)\n",
    "    for strain in strain_value_lst:\n",
    "        job_name = get_nve_job_name(\n",
    "            temperature_next=temperature_next,\n",
    "            strain=strain,\n",
    "            steps_lst=project_parameter['nve_run_time_steps_lst'],\n",
    "            nve_run_time_steps=nve_run_time_steps\n",
    "        )\n",
    "        ham_nve = project_parameter['project'].load(job_name)\n",
    "        if ham_nve is None:\n",
    "            basis_strain = basis_relative.copy()\n",
    "            cell = basis_strain.cell.copy()\n",
    "            cell[2, 2] *= strain\n",
    "            basis_strain.set_cell(cell=cell, scale_atoms=True)\n",
    "            ham_nvt = create_job_template(job_name=job_name.replace('nve', 'nvt'),\n",
    "                                          structure=basis_strain,\n",
    "                                          project_parameter=project_parameter)\n",
    "            ham_nvt.calc_md(\n",
    "                temperature=temperature_next,\n",
    "                temperature_damping_timescale=100.0,\n",
    "                n_print=project_parameter['nvt_run_time_steps'],\n",
    "                n_ionic_steps=project_parameter['nvt_run_time_steps'],\n",
    "                seed=project_parameter['seed'],\n",
    "            )\n",
    "            ham_nvt.input.control['fix___ensemble'] += ' drag 1'\n",
    "            ham_nvt = half_velocity(\n",
    "                job=ham_nvt,\n",
    "                temperature=temperature_next\n",
    "            )\n",
    "            ham_nvt.write_restart_file()\n",
    "            ham_nvt.run()\n",
    "            ham_nvt_lst.append(ham_nvt)\n",
    "    for ham_nvt in ham_nvt_lst:\n",
    "        ham_nvt.project.wait_for_job(\n",
    "            ham_nvt,\n",
    "            interval_in_s=100,\n",
    "            max_iterations=100000\n",
    "        )\n",
    "        ham_nve = ham_nvt.restart()\n",
    "        ham_nve.job_name = ham_nvt.job_name.replace('nvt', 'nve')\n",
    "        ham_nve.calc_md(\n",
    "            n_ionic_steps=nve_run_time_steps,\n",
    "            n_print=nve_run_time_steps / 100,\n",
    "            seed=project_parameter['seed'],\n",
    "        )\n",
    "        ham_nve = set_server(\n",
    "            job=ham_nve,\n",
    "            project_parameter=project_parameter\n",
    "        )\n",
    "        ham_nve.input.control['dump___1'] = \\\n",
    "            ham_nve.input.control['dump___1'].replace('${dumptime}', str(nve_run_time_steps))\n",
    "        ham_nve.run()\n",
    "        ham_nve_lst.append(ham_nve)\n",
    "    for ham_nve in ham_nve_lst:\n",
    "        ham_nve.project.wait_for_job(\n",
    "            ham_nve,\n",
    "            interval_in_s=100,\n",
    "            max_iterations=100000\n",
    "        )\n",
    "    for strain in strain_value_lst:\n",
    "        job_name = get_nve_job_name(\n",
    "            temperature_next=temperature_next,\n",
    "            strain=strain,\n",
    "            steps_lst=project_parameter['nve_run_time_steps_lst'],\n",
    "            nve_run_time_steps=nve_run_time_steps\n",
    "        )\n",
    "        ham_nve = project_parameter['project'].load(job_name)\n",
    "        press, temperature, press_std, temperature_std, ovito_dict = [\n",
    "            np.mean(get_press(ham=ham_nve, step=-20)),\n",
    "            np.mean(ham_nve['output/generic/temperature'][-20:]),\n",
    "            np.std(get_press(ham=ham_nve, step=-20)),\n",
    "            np.std(ham_nve['output/generic/temperature'][-20:]),\n",
    "            ham_nve.get_structure(iteration_step=-1).analyse_ovito_cna_adaptive()\n",
    "        ]\n",
    "        strain_lst.append(strain)\n",
    "        pressure_lst.append(press)\n",
    "        temperature_lst.append(temperature)\n",
    "        pressure_std_lst.append(press_std)\n",
    "        temperature_std_lst.append(temperature_std)\n",
    "        ovito_dict_lst.append(ovito_dict)\n",
    "    return strain_lst, pressure_lst, temperature_lst, pressure_std_lst, temperature_std_lst, ovito_dict_lst"
   ]
  },
  {
   "cell_type": "code",
   "execution_count": null,
   "metadata": {
    "ExecuteTime": {
     "end_time": "2019-10-08T13:04:30.830806Z",
     "start_time": "2019-10-08T13:04:30.821533Z"
    }
   },
   "outputs": [],
   "source": [
    "def analyse_minimized_structure(ham):\n",
    "    final_structure = ham.get_structure(iteration_step=-1)\n",
    "    final_structure_dict = final_structure.analyse_ovito_cna_adaptive()\n",
    "    key_max = max(final_structure_dict.items(), key=operator.itemgetter(1))[0]\n",
    "    number_of_atoms = len(final_structure)\n",
    "    distribution_initial = final_structure_dict[key_max] / number_of_atoms\n",
    "    distribution_initial_half = distribution_initial / 2\n",
    "    return final_structure, key_max, number_of_atoms, distribution_initial_half, final_structure_dict"
   ]
  },
  {
   "cell_type": "code",
   "execution_count": null,
   "metadata": {
    "ExecuteTime": {
     "end_time": "2019-10-08T13:04:30.841743Z",
     "start_time": "2019-10-08T13:04:30.833134Z"
    }
   },
   "outputs": [],
   "source": [
    "def get_press(ham, step=20):\n",
    "    return np.mean(ham['output/generic/pressures'][step:, :, :].diagonal(0, 2), axis=1)"
   ]
  },
  {
   "cell_type": "code",
   "execution_count": null,
   "metadata": {
    "ExecuteTime": {
     "end_time": "2019-10-08T13:04:30.863093Z",
     "start_time": "2019-10-08T13:04:30.853463Z"
    }
   },
   "outputs": [],
   "source": [
    "def get_center_point(strain_result_lst=None, pressure_result_lst=None, center=None):\n",
    "    if strain_result_lst is not None and len(strain_result_lst) != 0 and pressure_result_lst is not None and len(pressure_result_lst) != 0:\n",
    "        center_point = np.round(np.roots(np.polyfit(strain_result_lst, pressure_result_lst, 1))[0], 2)\n",
    "    elif center is not None:\n",
    "        center_point = center\n",
    "    else:\n",
    "        center_point = 1.0\n",
    "    return center_point"
   ]
  },
  {
   "cell_type": "code",
   "execution_count": null,
   "metadata": {
    "ExecuteTime": {
     "end_time": "2019-10-08T13:04:30.878342Z",
     "start_time": "2019-10-08T13:04:30.864396Z"
    }
   },
   "outputs": [],
   "source": [
    "def get_strain_lst(fit_range=0.02, points=21, strain_result_lst=None, pressure_result_lst=None, center=None):\n",
    "    center_point = get_center_point(\n",
    "        strain_result_lst=strain_result_lst,\n",
    "        pressure_result_lst=pressure_result_lst,\n",
    "        center=center\n",
    "    )\n",
    "    return [np.round(s, 3) for s in np.linspace(center_point-fit_range, center_point+fit_range, points)]"
   ]
  },
  {
   "cell_type": "code",
   "execution_count": null,
   "metadata": {
    "ExecuteTime": {
     "end_time": "2019-10-08T13:04:30.888175Z",
     "start_time": "2019-10-08T13:04:30.879614Z"
    }
   },
   "outputs": [],
   "source": [
    "def get_nve_job_name(temperature_next, strain, steps_lst, nve_run_time_steps):\n",
    "    temperature_next = round_temperature_next(temperature_next)\n",
    "    temp_str = str(temperature_next).replace('.', '_')\n",
    "    strain_str = str(strain).replace('.', '_')\n",
    "    steps_str = str(steps_lst.index(nve_run_time_steps))\n",
    "    return 'ham_nve_' + strain_str + '_' + temp_str + '_' + steps_str"
   ]
  },
  {
   "cell_type": "code",
   "execution_count": null,
   "metadata": {
    "ExecuteTime": {
     "end_time": "2019-10-08T13:04:30.912902Z",
     "start_time": "2019-10-08T13:04:30.889512Z"
    }
   },
   "outputs": [],
   "source": [
    "def plot_solid_liquid_ratio(temperature_next, strain_lst, nve_run_time_steps, project_parameter, debug_plot=True):\n",
    "    cna_str = project_parameter['crystalstructure'].upper()\n",
    "    ratio_lst, strain_value_lst = [], []\n",
    "    for strain in strain_lst:\n",
    "        job_name = get_nve_job_name(\n",
    "            temperature_next=temperature_next,\n",
    "            strain=strain,\n",
    "            steps_lst=project_parameter['nve_run_time_steps_lst'],\n",
    "            nve_run_time_steps=nve_run_time_steps\n",
    "        )\n",
    "        ham_nve = project_parameter['project'].load(job_name)\n",
    "        struct = ham_nve.get_structure().center_coordinates_in_unit_cell()\n",
    "        cna = struct.analyse_ovito_cna_adaptive(mode='str')\n",
    "        bcc_count = sum(cna == 'BCC')\n",
    "        fcc_count = sum(cna == 'FCC')\n",
    "        hcp_count = sum(cna == 'HCP')\n",
    "        if (cna_str == 'BCC' and bcc_count > fcc_count and bcc_count > hcp_count) or \\\n",
    "                (cna_str == 'FCC' and fcc_count > bcc_count and fcc_count > hcp_count) or \\\n",
    "                (cna_str == 'HCP' and hcp_count > bcc_count and hcp_count > fcc_count):\n",
    "            # plt.figure(figsize=(16,12))\n",
    "            bandwidth = (struct.get_volume()/len(struct))**(1.0/3.0)\n",
    "            kde = KernelDensity(kernel='gaussian',\n",
    "                                bandwidth=bandwidth).fit(struct.positions[:, 2][cna == cna_str].reshape(-1, 1))\n",
    "            z_range = np.linspace(struct.positions[:, 2].min(), struct.positions[:, 2].max(), 1000)\n",
    "            sample = kde.score_samples(z_range.reshape(-1, 1))\n",
    "            gaussian_funct = np.exp(sample)/np.exp(sample).max()\n",
    "            z_range_above_limit = z_range[np.where(gaussian_funct > 0.1)]\n",
    "            z_range_below_limit = z_range[np.where(gaussian_funct < 0.1)]\n",
    "            if len(z_range_above_limit) != 0:\n",
    "                ratio_above = (np.max(z_range_above_limit)-np.min(z_range_above_limit)) / \\\n",
    "                              (np.max(z_range)-np.min(z_range))\n",
    "            else:\n",
    "                ratio_above = 1.0\n",
    "            if len(z_range_below_limit) != 0:\n",
    "                ratio_below = 1 - (np.max(z_range_below_limit)-np.min(z_range_below_limit)) / \\\n",
    "                              (np.max(z_range)-np.min(z_range))\n",
    "            else:\n",
    "                ratio_below = 0.0\n",
    "            if ratio_below == 0.0:\n",
    "                ratio = ratio_above\n",
    "            elif ratio_above == 1.0:\n",
    "                ratio = ratio_below\n",
    "            else:\n",
    "                ratio = np.min([ratio_below, ratio_above])\n",
    "            ratio_lst.append(ratio)\n",
    "        else:\n",
    "            z_range = None\n",
    "            gaussian_funct = None\n",
    "            z_range_above_limit = None\n",
    "            ratio = None\n",
    "            ratio_lst.append(0.0)\n",
    "        if debug_plot:\n",
    "            plt.title('strain: ' + str(strain))\n",
    "            plt.xlabel('position z')\n",
    "            plt.ylabel('position x')\n",
    "            plt.plot(struct.positions[:, 2], struct.positions[:, 0], 'o', label='all')\n",
    "            plt.plot(struct.positions[:, 2][cna == 'BCC'], struct.positions[:, 0][cna == 'BCC'], 'x', label='BCC')\n",
    "            plt.plot(struct.positions[:, 2][cna == 'FCC'], struct.positions[:, 0][cna == 'FCC'], 'x', label='FCC')\n",
    "            plt.plot(struct.positions[:, 2][cna == 'HCP'], struct.positions[:, 0][cna == 'HCP'], 'x', label='HCP')\n",
    "            plt.axvline(struct.positions[:, 2][cna == cna_str].max(), color='red')\n",
    "            plt.axvline(struct.positions[:, 2][cna == cna_str].min(), color='red')\n",
    "            plt.legend()\n",
    "            plt.show()\n",
    "            plt.xlabel('Position in z')\n",
    "            plt.ylabel('kernel density score')\n",
    "            plt.title('strain: ' + str(strain))\n",
    "            if z_range is not None:\n",
    "                plt.plot(z_range, gaussian_funct, label=cna_str)\n",
    "                plt.axvline(np.min(z_range_above_limit), color='black', linestyle='--', label='ratio: ' + str(ratio))\n",
    "                plt.axvline(np.max(z_range_above_limit), color='black', linestyle='--')\n",
    "            plt.axhline(0.1, color='red')\n",
    "            plt.legend()\n",
    "            plt.show()\n",
    "    return ratio_lst"
   ]
  },
  {
   "cell_type": "code",
   "execution_count": null,
   "metadata": {
    "ExecuteTime": {
     "end_time": "2019-10-08T13:04:30.925558Z",
     "start_time": "2019-10-08T13:04:30.914312Z"
    }
   },
   "outputs": [],
   "source": [
    "def ratio_selection(strain_lst, ratio_lst, pressure_lst, temperature_lst, ratio_boundary, debug_plot=True):\n",
    "    if debug_plot:\n",
    "        plt.plot(strain_lst, ratio_lst)\n",
    "        plt.axhline(0.5 + ratio_boundary, color='red', linestyle='--')\n",
    "        plt.axhline(0.5, color='black', linestyle='--')\n",
    "        plt.axhline(0.5 - ratio_boundary, color='red', linestyle='--')\n",
    "        plt.xlabel('Strain')\n",
    "        plt.ylabel('ratio solid vs. liquid')\n",
    "    rat_lst, rat_col_lst = [], []\n",
    "    for rat in ratio_lst:\n",
    "        if (0.5 - ratio_boundary) < rat < (0.5 + ratio_boundary):\n",
    "            rat_lst.append(rat)\n",
    "        elif len(rat_lst) != 0:\n",
    "            rat_col_lst.append(rat_lst)\n",
    "            rat_lst = []\n",
    "    if len(rat_lst) != 0:\n",
    "        rat_col_lst.append(rat_lst)\n",
    "    rat_max_ind = np.argmax([len(l) for l in rat_col_lst])\n",
    "    ratio_ind = [r in rat_col_lst[rat_max_ind] for r in ratio_lst]\n",
    "    strain_value_lst = np.array(strain_lst)[ratio_ind]\n",
    "    ratio_value_lst = np.array(ratio_lst)[ratio_ind]\n",
    "    pressure_value_lst = np.array(pressure_lst)[ratio_ind]\n",
    "    temperature_value_lst = np.array(temperature_lst)[ratio_ind]\n",
    "    if debug_plot:\n",
    "        plt.axvline(np.min(strain_value_lst), color='blue', linestyle='--')\n",
    "        plt.axvline(np.max(strain_value_lst), color='blue', linestyle='--')\n",
    "        plt.show()\n",
    "    return strain_value_lst, ratio_value_lst, pressure_value_lst, temperature_value_lst"
   ]
  },
  {
   "cell_type": "code",
   "execution_count": null,
   "metadata": {
    "ExecuteTime": {
     "end_time": "2019-10-08T13:04:30.937445Z",
     "start_time": "2019-10-08T13:04:30.926845Z"
    }
   },
   "outputs": [],
   "source": [
    "def plot_equilibration(temperature_next, strain_lst, nve_run_time_steps, project_parameter, debug_plot=True):\n",
    "    if debug_plot:\n",
    "        for strain in strain_lst:\n",
    "            job_name = get_nve_job_name(\n",
    "                temperature_next=temperature_next,\n",
    "                strain=strain,\n",
    "                steps_lst=project_parameter['nve_run_time_steps_lst'],\n",
    "                nve_run_time_steps=nve_run_time_steps\n",
    "            )\n",
    "            ham_nve = project_parameter['project'].load(job_name)\n",
    "            plt.plot(ham_nve['output/generic/temperature'], label='strain: ' + str(strain))\n",
    "            plt.axhline(np.mean(ham_nve['output/generic/temperature'][-20:]), linestyle='--', color='red')\n",
    "            plt.axvline(range(len(ham_nve['output/generic/temperature']))[-20], linestyle='--', color='black')\n",
    "            plt.legend()\n",
    "            plt.xlabel('timestep')\n",
    "            plt.ylabel('Temperature K')\n",
    "            plt.legend()\n",
    "            plt.show()"
   ]
  },
  {
   "cell_type": "code",
   "execution_count": null,
   "metadata": {
    "ExecuteTime": {
     "end_time": "2019-10-08T13:04:30.950721Z",
     "start_time": "2019-10-08T13:04:30.938801Z"
    }
   },
   "outputs": [],
   "source": [
    "def plot_melting_point_prediction(strain_value_lst, pressure_value_lst, temperature_value_lst, boundary_value=0.25, debug_plot=True):\n",
    "    fit_press = np.poly1d(np.polyfit(strain_value_lst, pressure_value_lst, 1))\n",
    "    fit_temp = np.poly1d(np.polyfit(strain_value_lst, temperature_value_lst, 1))\n",
    "    fit_temp_from_press = np.poly1d(np.polyfit(pressure_value_lst, temperature_value_lst, 1))\n",
    "    fit_combined = np.poly1d(np.polyfit(fit_press(strain_value_lst), fit_temp(strain_value_lst), 1))\n",
    "    if debug_plot:\n",
    "        plt.plot(strain_value_lst, pressure_value_lst, label='pressure (strain)')\n",
    "        plt.plot(strain_value_lst, fit_press(strain_value_lst), label='fit')\n",
    "        plt.xlabel('Strain')\n",
    "        plt.ylabel('Pressure GPa')\n",
    "        plt.legend()\n",
    "        plt.show()\n",
    "        plt.plot(strain_value_lst, temperature_value_lst, label='temperature (strain)')\n",
    "        plt.plot(strain_value_lst, fit_temp(strain_value_lst), label='fit')\n",
    "        plt.xlabel('Strain')\n",
    "        plt.ylabel('Temperature K')\n",
    "        plt.legend()\n",
    "        plt.show()\n",
    "        plt.plot(pressure_value_lst, temperature_value_lst, label='temperature (pressure)')\n",
    "        plt.plot(pressure_value_lst, fit_temp_from_press(pressure_value_lst), label='fit direct')\n",
    "        plt.plot(fit_press(strain_value_lst), fit_temp(strain_value_lst), label='combined fits')\n",
    "        plt.xlabel('Pressure GPa')\n",
    "        plt.ylabel('Temperature K')\n",
    "        plt.legend()\n",
    "        plt.show()\n",
    "    print(fit_temp_from_press(0.0), fit_combined(0.0))\n",
    "    temperature_mean = np.min(temperature_value_lst) + \\\n",
    "        (np.max(temperature_value_lst) - np.min(temperature_value_lst)) * 1 / 2\n",
    "    temperature_left = np.min(temperature_value_lst) + \\\n",
    "        (np.max(temperature_value_lst) - np.min(temperature_value_lst)) * (1 / 2 - boundary_value)\n",
    "    temperature_right = np.min(temperature_value_lst) + \\\n",
    "        (np.max(temperature_value_lst) - np.min(temperature_value_lst)) * (1 / 2 + boundary_value)\n",
    "    temperature_next = fit_temp_from_press(0.0)\n",
    "    return temperature_next, temperature_mean, temperature_left, temperature_right"
   ]
  },
  {
   "cell_type": "code",
   "execution_count": null,
   "metadata": {
    "ExecuteTime": {
     "end_time": "2019-10-08T13:04:30.965133Z",
     "start_time": "2019-10-08T13:04:30.952087Z"
    }
   },
   "outputs": [],
   "source": [
    "def calc_temp_iteration(basis, temperature_next, project_parameter, nve_run_time_steps, fit_range, center,\n",
    "                        debug_plot=True):\n",
    "    temperature_next = round_temperature_next(temperature_next)\n",
    "    ham_npt_solid = npt_solid(\n",
    "        temperature=temperature_next,\n",
    "        basis=basis,\n",
    "        project_parameter=project_parameter\n",
    "    )\n",
    "    ham_npt_liquid_low = npt_liquid(\n",
    "        temperature_solid=temperature_next,\n",
    "        temperature_liquid=temperature_next + 1000,\n",
    "        basis=ham_npt_solid.get_structure(),\n",
    "        project_parameter=project_parameter\n",
    "    )\n",
    "    basis = ham_npt_liquid_low.get_structure()\n",
    "    basis_no_selective = remove_selective_dynamics(basis)\n",
    "    basis_relative = basis_no_selective.copy()\n",
    "    strain_lst, pressure_lst, temperature_lst, pressure_std_lst, temperature_std_lst, ovito_dict_lst = strain_circle(\n",
    "        basis_relative=basis_relative,\n",
    "        temperature_next=temperature_next,\n",
    "        nve_run_time_steps=nve_run_time_steps,\n",
    "        project_parameter=project_parameter,\n",
    "        strain_result_lst=None,\n",
    "        pressure_result_lst=None,\n",
    "        center=center,\n",
    "        fit_range=fit_range\n",
    "    )\n",
    "    ratio_lst = plot_solid_liquid_ratio(\n",
    "        temperature_next=temperature_next,\n",
    "        strain_lst=strain_lst,\n",
    "        nve_run_time_steps=nve_run_time_steps,\n",
    "        project_parameter=project_parameter,\n",
    "        debug_plot=debug_plot\n",
    "    )\n",
    "    strain_value_lst, ratio_value_lst, pressure_value_lst, temperature_value_lst = ratio_selection(\n",
    "        strain_lst=strain_lst,\n",
    "        ratio_lst=ratio_lst,\n",
    "        pressure_lst=pressure_lst,\n",
    "        temperature_lst=temperature_lst,\n",
    "        ratio_boundary=project_parameter['ratio_boundary'],\n",
    "        debug_plot=debug_plot\n",
    "    )\n",
    "    plot_equilibration(\n",
    "        temperature_next=temperature_next,\n",
    "        strain_lst=strain_lst,\n",
    "        nve_run_time_steps=nve_run_time_steps,\n",
    "        project_parameter=project_parameter,\n",
    "        debug_plot=debug_plot\n",
    "    )\n",
    "    ind = check_for_holes(\n",
    "        temperature_next=temperature_next, \n",
    "        strain_value_lst=strain_value_lst, \n",
    "        nve_run_time_steps=nve_run_time_steps, \n",
    "        project_parameter=project_parameter\n",
    "    )\n",
    "    strain_value_lst = np.array(strain_value_lst)[ind].tolist()\n",
    "    pressure_value_lst = np.array(pressure_value_lst)[ind].tolist()\n",
    "    temperature_value_lst = np.array(temperature_value_lst)[ind].tolist()\n",
    "    temperature_next, temperature_mean, temperature_left, temperature_right = plot_melting_point_prediction(\n",
    "        strain_value_lst=strain_value_lst,\n",
    "        pressure_value_lst=pressure_value_lst,\n",
    "        temperature_value_lst=temperature_value_lst,\n",
    "        boundary_value=project_parameter['boundary_value'],\n",
    "        debug_plot=True\n",
    "    )\n",
    "    return temperature_next, temperature_mean, temperature_left, temperature_right, strain_value_lst, pressure_value_lst"
   ]
  },
  {
   "cell_type": "code",
   "execution_count": null,
   "metadata": {
    "ExecuteTime": {
     "end_time": "2019-10-08T13:04:30.976895Z",
     "start_time": "2019-10-08T13:04:30.966418Z"
    }
   },
   "outputs": [],
   "source": [
    "def get_initial_melting_temperature_guess(project_parameter, ham_minimize_vol, temperature_next=None):\n",
    "    structure_after_minimization, key_max, number_of_atoms, distribution_initial_half, _ = analyse_minimized_structure(\n",
    "        ham_minimize_vol\n",
    "    )\n",
    "    temperature_left = project_parameter['temperature_left']\n",
    "    temperature_right = project_parameter['temperature_right']\n",
    "    if temperature_next is None:\n",
    "        structure_left = structure_after_minimization\n",
    "        structure_right = next_calc(\n",
    "            structure=structure_after_minimization,\n",
    "            temperature=temperature_right,\n",
    "            project_parameter=project_parameter,\n",
    "            run_time_steps=project_parameter['strain_run_time_steps']\n",
    "        )\n",
    "        temperature_step = temperature_right - temperature_left\n",
    "        while temperature_step > 10:\n",
    "            structure_left, structure_right, temperature_left, temperature_right = next_step_funct(\n",
    "                number_of_atoms=number_of_atoms,\n",
    "                key_max=key_max,\n",
    "                structure_left=structure_left,\n",
    "                structure_right=structure_right,\n",
    "                temperature_left=temperature_left,\n",
    "                temperature_right=temperature_right,\n",
    "                distribution_initial_half=distribution_initial_half,\n",
    "                structure_after_minimization=structure_after_minimization,\n",
    "                run_time_steps=project_parameter['strain_run_time_steps'],\n",
    "                project_parameter=project_parameter)\n",
    "            temperature_step = temperature_right - temperature_left\n",
    "        temperature_next = int(round(temperature_left))\n",
    "        return temperature_next, structure_left\n",
    "    else:\n",
    "        return temperature_next, ham_minimize_vol.get_structure()"
   ]
  },
  {
   "cell_type": "code",
   "execution_count": null,
   "metadata": {
    "ExecuteTime": {
     "end_time": "2019-10-08T13:04:30.988871Z",
     "start_time": "2019-10-08T13:04:30.978189Z"
    }
   },
   "outputs": [],
   "source": [
    "def validate_convergence(pr, temperature_left, temperature_next, temperature_right, enable_iteration,\n",
    "                         fit_range_iter, fit_range_lst, fit_range,\n",
    "                         nve_run_time_steps_iter, nve_run_time_steps_lst, nve_run_time_steps,\n",
    "                         strain_result_lst, pressure_result_lst, step_count, step_dict, boundary_value, ratio_boundary,\n",
    "                         convergence_goal):\n",
    "    if temperature_left < temperature_next < temperature_right and enable_iteration:\n",
    "        fit_range = next(fit_range_iter)\n",
    "        nve_run_time_steps = next(nve_run_time_steps_iter)\n",
    "    if fit_range == fit_range_lst[-1] and nve_run_time_steps == nve_run_time_steps_lst[-1]:\n",
    "        enable_iteration = False\n",
    "    center = get_center_point(\n",
    "        strain_result_lst=strain_result_lst,\n",
    "        pressure_result_lst=pressure_result_lst\n",
    "    )\n",
    "    step_count += 1\n",
    "    if step_count not in step_dict.keys():\n",
    "        step_dict[step_count] = {'fit_range': fit_range,\n",
    "                                 'nve_run_time_steps': nve_run_time_steps,\n",
    "                                 'boundary_value': boundary_value,\n",
    "                                 'ratio_boundary': ratio_boundary,\n",
    "                                 'temperature_next': temperature_next,\n",
    "                                 'center': center}\n",
    "        with open(os.path.join(pr.path, 'melting.json'), 'w') as f:\n",
    "            json.dump(step_dict, f)\n",
    "    else:\n",
    "        fit_range = step_dict[step_count]['fit_range']\n",
    "        nve_run_time_steps = step_dict[step_count]['nve_run_time_steps']\n",
    "        boundary_value = step_dict[step_count]['boundary_value']\n",
    "        ratio_boundary = step_dict[step_count]['ratio_boundary']\n",
    "        temperature_next = step_dict[step_count]['temperature_next']\n",
    "        center = step_dict[step_count]['center']\n",
    "    if np.abs(step_dict[step_count]['temperature_next'] - step_dict[step_count - 1][\n",
    "            'temperature_next']) <= convergence_goal:\n",
    "        convergence_goal_achieved = True\n",
    "    else:\n",
    "        convergence_goal_achieved = False\n",
    "    return convergence_goal_achieved, enable_iteration, step_count, step_dict, fit_range, nve_run_time_steps, \\\n",
    "        boundary_value, ratio_boundary, temperature_next, center"
   ]
  },
  {
   "cell_type": "code",
   "execution_count": null,
   "metadata": {
    "ExecuteTime": {
     "end_time": "2019-10-08T13:04:31.000189Z",
     "start_time": "2019-10-08T13:04:30.990219Z"
    }
   },
   "outputs": [],
   "source": [
    "def initialise_iterators(project_parameter):\n",
    "    return iter(project_parameter['fit_range_lst']), iter(project_parameter['nve_run_time_steps_lst'])"
   ]
  },
  {
   "cell_type": "code",
   "execution_count": null,
   "metadata": {
    "ExecuteTime": {
     "end_time": "2019-10-08T13:04:31.010812Z",
     "start_time": "2019-10-08T13:04:31.001455Z"
    }
   },
   "outputs": [],
   "source": [
    "def get_voronoi_volume(temperature_next, strain_lst, nve_run_time_steps, project_parameter):\n",
    "    max_lst, mean_lst = [], []\n",
    "    for strain in strain_lst:\n",
    "        job_name = get_nve_job_name(\n",
    "            temperature_next=temperature_next, \n",
    "            strain=strain, \n",
    "            steps_lst=project_parameter['nve_run_time_steps_lst'], \n",
    "            nve_run_time_steps=nve_run_time_steps\n",
    "        )\n",
    "        ham_nve = project_parameter['project'].load(job_name)\n",
    "        structure_voronoi_lst = ham_nve.get_structure().analyse_ovito_voronoi_volume()\n",
    "        max_lst.append(np.max(structure_voronoi_lst))\n",
    "        mean_lst.append(np.mean(structure_voronoi_lst))\n",
    "    return max_lst, mean_lst"
   ]
  },
  {
   "cell_type": "code",
   "execution_count": null,
   "metadata": {},
   "outputs": [],
   "source": [
    "def check_for_holes(temperature_next, strain_value_lst, nve_run_time_steps, project_parameter, debug_plot=True):\n",
    "    max_lst, mean_lst = get_voronoi_volume(\n",
    "        temperature_next=temperature_next,\n",
    "        strain_lst=strain_value_lst,\n",
    "        nve_run_time_steps=nve_run_time_steps,\n",
    "        project_parameter=project_parameter\n",
    "    )\n",
    "    if debug_plot:\n",
    "        plt.plot(strain_value_lst, mean_lst, label='mean')\n",
    "        plt.plot(strain_value_lst, max_lst, label='max')\n",
    "        plt.axhline(np.mean(mean_lst) * 2, color='black', linestyle='--')\n",
    "        plt.legend()\n",
    "        plt.xlabel('Strain')\n",
    "        plt.ylabel('Voronoi Volume')\n",
    "        plt.show()\n",
    "    return np.array(max_lst) < np.mean(mean_lst) * 2"
   ]
  },
  {
   "cell_type": "code",
   "execution_count": null,
   "metadata": {
    "ExecuteTime": {
     "end_time": "2019-10-08T13:04:31.021413Z",
     "start_time": "2019-10-08T13:04:31.012101Z"
    }
   },
   "outputs": [],
   "source": [
    "step_count = 0\n",
    "temperature_next = None\n",
    "enable_iteration = True\n",
    "convergence_goal_achieved = False"
   ]
  },
  {
   "cell_type": "code",
   "execution_count": null,
   "metadata": {
    "ExecuteTime": {
     "end_time": "2019-10-08T13:04:31.033447Z",
     "start_time": "2019-10-08T13:04:31.022716Z"
    }
   },
   "outputs": [],
   "source": [
    "pr = project_parameter['project']"
   ]
  },
  {
   "cell_type": "code",
   "execution_count": null,
   "metadata": {
    "ExecuteTime": {
     "end_time": "2019-10-08T13:04:31.288827Z",
     "start_time": "2019-10-08T13:04:31.034782Z"
    }
   },
   "outputs": [],
   "source": [
    "if 'lattice_constant' in project_parameter.keys():\n",
    "    basis = pr.create_structure(project_parameter['element'], project_parameter['crystalstructure'].lower(), project_parameter['lattice_constant'])\n",
    "else: \n",
    "    basis = pr.create_ase_bulk(project_parameter['element'], project_parameter['crystalstructure'].lower(), cubic=True)\n",
    "basis_lst = [basis.repeat([i, i, i]) for i in range(5,30)]\n",
    "basis = basis_lst[np.argmin([np.abs(len(b)-project_parameter['number_of_atoms']/2) for b in basis_lst])]"
   ]
  },
  {
   "cell_type": "code",
   "execution_count": null,
   "metadata": {
    "ExecuteTime": {
     "end_time": "2019-10-08T13:04:31.515297Z",
     "start_time": "2019-10-08T13:04:31.290502Z"
    }
   },
   "outputs": [],
   "source": [
    "basis.plot3d()"
   ]
  },
  {
   "cell_type": "code",
   "execution_count": null,
   "metadata": {
    "ExecuteTime": {
     "end_time": "2019-10-08T13:04:31.518804Z",
     "start_time": "2019-10-08T13:04:31.516776Z"
    }
   },
   "outputs": [],
   "source": [
    "# pr.remove_jobs(recursive=True)"
   ]
  },
  {
   "cell_type": "code",
   "execution_count": null,
   "metadata": {
    "ExecuteTime": {
     "end_time": "2019-10-08T13:04:31.531151Z",
     "start_time": "2019-10-08T13:04:31.520073Z"
    }
   },
   "outputs": [],
   "source": [
    "fit_range_iter, nve_run_time_steps_iter = initialise_iterators(project_parameter)\n",
    "fit_range = next(fit_range_iter)\n",
    "nve_run_time_steps = next(nve_run_time_steps_iter)"
   ]
  },
  {
   "cell_type": "code",
   "execution_count": null,
   "metadata": {
    "ExecuteTime": {
     "end_time": "2019-10-08T13:04:32.021404Z",
     "start_time": "2019-10-08T13:04:31.532487Z"
    }
   },
   "outputs": [],
   "source": [
    "pr.job_table()"
   ]
  },
  {
   "cell_type": "markdown",
   "metadata": {},
   "source": [
    "# Minimize position"
   ]
  },
  {
   "cell_type": "code",
   "execution_count": null,
   "metadata": {
    "ExecuteTime": {
     "end_time": "2019-10-08T13:06:12.707863Z",
     "start_time": "2019-10-08T13:04:32.022971Z"
    }
   },
   "outputs": [],
   "source": [
    "ham_minimize_pos= minimize_pos(structure=basis, \n",
    "                               project_parameter=project_parameter)"
   ]
  },
  {
   "cell_type": "code",
   "execution_count": null,
   "metadata": {
    "ExecuteTime": {
     "end_time": "2019-10-08T13:06:13.277760Z",
     "start_time": "2019-10-08T13:06:12.761261Z"
    }
   },
   "outputs": [],
   "source": [
    "pr.job_table()"
   ]
  },
  {
   "cell_type": "markdown",
   "metadata": {},
   "source": [
    "# Minimize volume "
   ]
  },
  {
   "cell_type": "code",
   "execution_count": null,
   "metadata": {
    "ExecuteTime": {
     "end_time": "2019-10-08T13:07:54.491128Z",
     "start_time": "2019-10-08T13:06:13.279478Z"
    }
   },
   "outputs": [],
   "source": [
    "ham_minimize_vol = minimize_vol(structure=ham_minimize_pos.get_structure(), \n",
    "                                project_parameter=project_parameter)"
   ]
  },
  {
   "cell_type": "markdown",
   "metadata": {},
   "source": [
    "# Convergence"
   ]
  },
  {
   "cell_type": "code",
   "execution_count": null,
   "metadata": {
    "ExecuteTime": {
     "end_time": "2019-10-08T13:21:25.585304Z",
     "start_time": "2019-10-08T13:07:54.595319Z"
    }
   },
   "outputs": [],
   "source": [
    "temperature_next, structure_left = get_initial_melting_temperature_guess(project_parameter=project_parameter, \n",
    "                                                                         ham_minimize_vol=ham_minimize_vol, \n",
    "                                                                         temperature_next=temperature_next)"
   ]
  },
  {
   "cell_type": "code",
   "execution_count": null,
   "metadata": {
    "ExecuteTime": {
     "end_time": "2019-10-08T13:21:25.634302Z",
     "start_time": "2019-10-08T13:21:25.630469Z"
    }
   },
   "outputs": [],
   "source": [
    "temperature_next   # +/- 100K "
   ]
  },
  {
   "cell_type": "code",
   "execution_count": null,
   "metadata": {
    "ExecuteTime": {
     "end_time": "2019-10-08T13:21:25.798131Z",
     "start_time": "2019-10-08T13:21:25.788508Z"
    }
   },
   "outputs": [],
   "source": [
    "if step_count in step_dict.keys():\n",
    "    temperature_next = step_dict[step_count]['temperature_next']\n",
    "else: \n",
    "    step_dict[step_count]= {'temperature_next': temperature_next}"
   ]
  },
  {
   "cell_type": "code",
   "execution_count": null,
   "metadata": {
    "ExecuteTime": {
     "end_time": "2019-10-08T13:21:25.824814Z",
     "start_time": "2019-10-08T13:21:25.799495Z"
    }
   },
   "outputs": [],
   "source": [
    "structure_left.analyse_ovito_cna_adaptive()"
   ]
  },
  {
   "cell_type": "markdown",
   "metadata": {},
   "source": [
    "# NPT - solid"
   ]
  },
  {
   "cell_type": "code",
   "execution_count": null,
   "metadata": {
    "ExecuteTime": {
     "end_time": "2019-10-08T13:21:26.283490Z",
     "start_time": "2019-10-08T13:21:25.826153Z"
    }
   },
   "outputs": [],
   "source": [
    "basis_double = ham_minimize_vol.get_structure().repeat([1,1,2])"
   ]
  },
  {
   "cell_type": "code",
   "execution_count": null,
   "metadata": {
    "ExecuteTime": {
     "end_time": "2019-10-08T13:26:27.550398Z",
     "start_time": "2019-10-08T13:21:26.285069Z"
    }
   },
   "outputs": [],
   "source": [
    "ham_npt_solid = npt_solid(temperature=temperature_next, \n",
    "                          basis=basis_double,\n",
    "                          project_parameter=project_parameter)"
   ]
  },
  {
   "cell_type": "markdown",
   "metadata": {},
   "source": [
    "# NPT - liquid"
   ]
  },
  {
   "cell_type": "code",
   "execution_count": null,
   "metadata": {
    "ExecuteTime": {
     "end_time": "2019-10-08T13:36:31.161068Z",
     "start_time": "2019-10-08T13:26:27.620826Z"
    }
   },
   "outputs": [],
   "source": [
    "ham_npt_liquid_low = npt_liquid(temperature_solid=temperature_next, \n",
    "                                temperature_liquid=temperature_next + 1000, \n",
    "                                basis=ham_npt_solid.get_structure(), \n",
    "                                project_parameter=project_parameter)"
   ]
  },
  {
   "cell_type": "code",
   "execution_count": null,
   "metadata": {
    "ExecuteTime": {
     "end_time": "2019-10-08T13:36:31.775786Z",
     "start_time": "2019-10-08T13:36:31.234999Z"
    }
   },
   "outputs": [],
   "source": [
    "df = pr.job_table(all_columns=True)\n",
    "df[df.status != 'finished']"
   ]
  },
  {
   "cell_type": "code",
   "execution_count": null,
   "metadata": {
    "ExecuteTime": {
     "end_time": "2019-10-08T13:36:32.211084Z",
     "start_time": "2019-10-08T13:36:31.777491Z"
    }
   },
   "outputs": [],
   "source": [
    "basis = ham_npt_liquid_low.get_structure()"
   ]
  },
  {
   "cell_type": "code",
   "execution_count": null,
   "metadata": {
    "ExecuteTime": {
     "end_time": "2019-10-08T13:36:32.460034Z",
     "start_time": "2019-10-08T13:36:32.212709Z"
    }
   },
   "outputs": [],
   "source": [
    "basis.plot3d()"
   ]
  },
  {
   "cell_type": "markdown",
   "metadata": {},
   "source": [
    "# interface temperature"
   ]
  },
  {
   "cell_type": "code",
   "execution_count": null,
   "metadata": {
    "ExecuteTime": {
     "end_time": "2019-10-08T13:36:32.479555Z",
     "start_time": "2019-10-08T13:36:32.461436Z"
    }
   },
   "outputs": [],
   "source": [
    "basis_no_selective = remove_selective_dynamics(basis)"
   ]
  },
  {
   "cell_type": "code",
   "execution_count": null,
   "metadata": {
    "ExecuteTime": {
     "end_time": "2019-10-08T13:36:32.535574Z",
     "start_time": "2019-10-08T13:36:32.480972Z"
    }
   },
   "outputs": [],
   "source": [
    "basis_relative = basis_no_selective.copy()\n",
    "# basis_relative.set_relative()"
   ]
  },
  {
   "cell_type": "markdown",
   "metadata": {},
   "source": [
    "# strained interface"
   ]
  },
  {
   "cell_type": "code",
   "execution_count": null,
   "metadata": {
    "ExecuteTime": {
     "end_time": "2019-10-08T13:36:33.050399Z",
     "start_time": "2019-10-08T13:36:32.537117Z"
    }
   },
   "outputs": [],
   "source": [
    "df = pr.job_table()\n",
    "df[df.status != 'finished']"
   ]
  },
  {
   "cell_type": "code",
   "execution_count": null,
   "metadata": {
    "ExecuteTime": {
     "end_time": "2019-10-08T13:47:53.773344Z",
     "start_time": "2019-10-08T13:36:33.051766Z"
    },
    "scrolled": true
   },
   "outputs": [],
   "source": [
    "strain_lst, pressure_lst, temperature_lst,  pressure_std_lst, temperature_std_lst, ovito_dict_lst = strain_circle(basis_relative=basis_relative, \n",
    "                                                                                                                  temperature_next=temperature_next,  \n",
    "                                                                                                                  nve_run_time_steps=nve_run_time_steps, \n",
    "                                                                                                                  project_parameter=project_parameter,\n",
    "                                                                                                                  fit_range=fit_range)"
   ]
  },
  {
   "cell_type": "code",
   "execution_count": null,
   "metadata": {
    "ExecuteTime": {
     "end_time": "2019-10-08T13:48:47.734272Z",
     "start_time": "2019-10-08T13:47:53.818448Z"
    }
   },
   "outputs": [],
   "source": [
    "ratio_lst = plot_solid_liquid_ratio(temperature_next=temperature_next, \n",
    "                                    strain_lst=strain_lst, \n",
    "                                    nve_run_time_steps=nve_run_time_steps,\n",
    "                                    project_parameter=project_parameter,  \n",
    "                                    debug_plot=True)"
   ]
  },
  {
   "cell_type": "code",
   "execution_count": null,
   "metadata": {
    "ExecuteTime": {
     "end_time": "2019-10-08T13:48:47.923347Z",
     "start_time": "2019-10-08T13:48:47.778006Z"
    }
   },
   "outputs": [],
   "source": [
    "strain_value_lst, ratio_value_lst, pressure_value_lst, temperature_value_lst = ratio_selection(strain_lst=strain_lst, \n",
    "                                                                                               ratio_lst=ratio_lst, \n",
    "                                                                                               pressure_lst=pressure_lst, \n",
    "                                                                                               temperature_lst=temperature_lst, \n",
    "                                                                                               ratio_boundary=project_parameter['ratio_boundary'], \n",
    "                                                                                               debug_plot=True)"
   ]
  },
  {
   "cell_type": "code",
   "execution_count": null,
   "metadata": {
    "ExecuteTime": {
     "end_time": "2019-10-08T13:49:04.108339Z",
     "start_time": "2019-10-08T13:48:47.924794Z"
    }
   },
   "outputs": [],
   "source": [
    "plot_equilibration(temperature_next=temperature_next, \n",
    "                   strain_lst=strain_lst, \n",
    "                   nve_run_time_steps=nve_run_time_steps,\n",
    "                   project_parameter=project_parameter, \n",
    "                   debug_plot=True)"
   ]
  },
  {
   "cell_type": "code",
   "execution_count": null,
   "metadata": {},
   "outputs": [],
   "source": [
    "ind = check_for_holes(temperature_next=temperature_next, \n",
    "                      strain_value_lst=strain_value_lst, \n",
    "                      nve_run_time_steps=nve_run_time_steps, \n",
    "                      project_parameter=project_parameter,\n",
    "                      debug_plot=True)"
   ]
  },
  {
   "cell_type": "code",
   "execution_count": null,
   "metadata": {
    "ExecuteTime": {
     "end_time": "2019-10-08T13:49:27.900991Z",
     "start_time": "2019-10-08T13:49:27.889476Z"
    }
   },
   "outputs": [],
   "source": [
    "strain_value_lst = np.array(strain_value_lst)[ind].tolist()\n",
    "pressure_value_lst = np.array(pressure_value_lst)[ind].tolist()\n",
    "temperature_value_lst = np.array(temperature_value_lst)[ind].tolist()"
   ]
  },
  {
   "cell_type": "code",
   "execution_count": null,
   "metadata": {
    "ExecuteTime": {
     "end_time": "2019-10-08T13:49:28.425061Z",
     "start_time": "2019-10-08T13:49:27.902330Z"
    }
   },
   "outputs": [],
   "source": [
    "temperature_next, temperature_mean, temperature_left, temperature_right = plot_melting_point_prediction(strain_value_lst=strain_value_lst, \n",
    "                                                                                                        pressure_value_lst=pressure_value_lst, \n",
    "                                                                                                        temperature_value_lst=temperature_value_lst, \n",
    "                                                                                                        boundary_value=project_parameter['boundary_value'], \n",
    "                                                                                                        debug_plot=True)"
   ]
  },
  {
   "cell_type": "code",
   "execution_count": null,
   "metadata": {
    "ExecuteTime": {
     "end_time": "2019-10-08T13:49:28.429890Z",
     "start_time": "2019-10-08T13:49:28.426577Z"
    }
   },
   "outputs": [],
   "source": [
    "temperature_next, temperature_mean, temperature_left, temperature_right"
   ]
  },
  {
   "cell_type": "code",
   "execution_count": null,
   "metadata": {
    "ExecuteTime": {
     "end_time": "2019-10-08T13:49:28.444986Z",
     "start_time": "2019-10-08T13:49:28.431186Z"
    }
   },
   "outputs": [],
   "source": [
    "output = validate_convergence(pr=pr,\n",
    "                              temperature_left=temperature_left, \n",
    "                              temperature_next=temperature_next, \n",
    "                              temperature_right=temperature_right, \n",
    "                              enable_iteration=enable_iteration, \n",
    "                              fit_range_iter=fit_range_iter, \n",
    "                              fit_range_lst=project_parameter['fit_range_lst'], \n",
    "                              fit_range=fit_range, \n",
    "                              nve_run_time_steps_iter=nve_run_time_steps_iter, \n",
    "                              nve_run_time_steps_lst=project_parameter['nve_run_time_steps_lst'], \n",
    "                              nve_run_time_steps=nve_run_time_steps,\n",
    "                              strain_result_lst=strain_value_lst, \n",
    "                              pressure_result_lst=pressure_value_lst, \n",
    "                              step_count=step_count, \n",
    "                              step_dict=step_dict, \n",
    "                              boundary_value=project_parameter['boundary_value'], \n",
    "                              ratio_boundary=project_parameter['ratio_boundary'],\n",
    "                              convergence_goal=project_parameter['convergence_criterion'])\n",
    "convergence_goal_achieved, enable_iteration, step_count, step_dict, fit_range, nve_run_time_steps, boundary_value, ratio_boundary, temperature_next, center = output"
   ]
  },
  {
   "cell_type": "code",
   "execution_count": null,
   "metadata": {
    "ExecuteTime": {
     "end_time": "2019-10-08T13:49:28.453309Z",
     "start_time": "2019-10-08T13:49:28.446358Z"
    }
   },
   "outputs": [],
   "source": [
    "step_dict[step_count]"
   ]
  },
  {
   "cell_type": "code",
   "execution_count": null,
   "metadata": {
    "ExecuteTime": {
     "end_time": "2019-10-08T13:49:28.464050Z",
     "start_time": "2019-10-08T13:49:28.454707Z"
    }
   },
   "outputs": [],
   "source": [
    "convergence_goal_achieved"
   ]
  },
  {
   "cell_type": "markdown",
   "metadata": {},
   "source": [
    "# Full cycle"
   ]
  },
  {
   "cell_type": "code",
   "execution_count": null,
   "metadata": {
    "ExecuteTime": {
     "end_time": "2019-10-08T18:29:20.424246Z",
     "start_time": "2019-10-08T13:49:28.465344Z"
    }
   },
   "outputs": [],
   "source": [
    "temperature_estimate_lst, temperature_calculated_lst = [], []\n",
    "while len(temperature_calculated_lst) < 5 or not convergence_goal_achieved and len(temperature_calculated_lst) < 10:\n",
    "    temperature_estimate_lst.append(temperature_next)\n",
    "    temperature_next, temperature_mean, temperature_left, temperature_right, strain_result_lst, pressure_result_lst = calc_temp_iteration(\n",
    "        basis=ham_minimize_vol.get_structure().repeat([1,1,2]), \n",
    "        temperature_next=temperature_next, \n",
    "        project_parameter=project_parameter, \n",
    "        nve_run_time_steps=nve_run_time_steps, \n",
    "        fit_range=fit_range,  \n",
    "        center=center,\n",
    "        debug_plot=True)\n",
    "    print(temperature_next, temperature_mean, temperature_left, temperature_right)\n",
    "    output = validate_convergence(pr=pr,\n",
    "                                  temperature_left=temperature_left, \n",
    "                                  temperature_next=temperature_next, \n",
    "                                  temperature_right=temperature_right, \n",
    "                                  enable_iteration=enable_iteration, \n",
    "                                  fit_range_iter=fit_range_iter, \n",
    "                                  fit_range_lst=project_parameter['fit_range_lst'], \n",
    "                                  fit_range=fit_range, \n",
    "                                  nve_run_time_steps_iter=nve_run_time_steps_iter, \n",
    "                                  nve_run_time_steps_lst=project_parameter['nve_run_time_steps_lst'], \n",
    "                                  nve_run_time_steps=nve_run_time_steps,\n",
    "                                  strain_result_lst=strain_result_lst, \n",
    "                                  pressure_result_lst=pressure_result_lst, \n",
    "                                  step_count=step_count, \n",
    "                                  step_dict=step_dict, \n",
    "                                  boundary_value=project_parameter['boundary_value'], \n",
    "                                  ratio_boundary=project_parameter['ratio_boundary'],\n",
    "                                  convergence_goal=project_parameter['convergence_criterion'])\n",
    "    convergence_goal_achieved, enable_iteration, step_count, step_dict, fit_range, nve_run_time_steps, boundary_value, ratio_boundary, temperature_next, center = output\n",
    "    print(step_dict[step_count])\n",
    "    temperature_calculated_lst.append(temperature_next)"
   ]
  },
  {
   "cell_type": "code",
   "execution_count": null,
   "metadata": {
    "ExecuteTime": {
     "end_time": "2019-10-08T18:29:20.656249Z",
     "start_time": "2019-10-08T18:29:20.469215Z"
    }
   },
   "outputs": [],
   "source": [
    "plt.plot(temperature_estimate_lst, 'o', label='estimate')\n",
    "plt.plot(temperature_calculated_lst, 'o', label='final')\n",
    "plt.xlabel('iteration')\n",
    "plt.ylabel('temperature K')\n",
    "plt.legend()"
   ]
  },
  {
   "cell_type": "code",
   "execution_count": null,
   "metadata": {
    "ExecuteTime": {
     "end_time": "2019-10-08T18:29:20.661837Z",
     "start_time": "2019-10-08T18:29:20.657637Z"
    }
   },
   "outputs": [],
   "source": [
    "with open(output_file, 'w') as f:\n",
    "    json.dump(step_dict, f)"
   ]
  },
  {
   "cell_type": "code",
   "execution_count": null,
   "metadata": {
    "ExecuteTime": {
     "end_time": "2019-10-08T18:29:20.675953Z",
     "start_time": "2019-10-08T18:29:20.663149Z"
    }
   },
   "outputs": [],
   "source": [
    "step_dict"
   ]
  },
  {
   "cell_type": "code",
   "execution_count": null,
   "metadata": {},
   "outputs": [],
   "source": [
    "df = pr.job_table()\n",
    "df"
   ]
  }
 ],
 "metadata": {
  "celltoolbar": "Tags",
  "kernelspec": {
   "display_name": "Python 3",
   "language": "python",
   "name": "python3"
  },
  "language_info": {
   "codemirror_mode": {
    "name": "ipython",
    "version": 3
   },
   "file_extension": ".py",
   "mimetype": "text/x-python",
   "name": "python",
   "nbconvert_exporter": "python",
   "pygments_lexer": "ipython3",
   "version": "3.7.3"
  },
  "toc": {
   "base_numbering": 1,
   "nav_menu": {
    "height": "120px",
    "width": "252px"
   },
   "number_sections": true,
   "sideBar": true,
   "skip_h1_title": false,
   "title_cell": "Table of Contents",
   "title_sidebar": "Contents",
   "toc_cell": false,
   "toc_position": {
    "height": "calc(100% - 180px)",
    "left": "10px",
    "top": "150px",
    "width": "166.796875px"
   },
   "toc_section_display": "block",
   "toc_window_display": false
  }
 },
 "nbformat": 4,
 "nbformat_minor": 2
}
